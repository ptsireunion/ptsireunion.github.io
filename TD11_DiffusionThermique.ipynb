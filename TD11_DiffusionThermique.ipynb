{
 "cells": [
  {
   "cell_type": "markdown",
   "metadata": {
    "toc": true
   },
   "source": [
    "![WeTheGeeksV3.jpg](https://raw.githubusercontent.com/ptsireunion/CPGE-PT-Reunion/main/WeTheGeeksV3.jpg)\n",
    " \n",
    "<div class=\"alert alert-block alert-info\">\n",
    "    <b> PYTHON – Capacité Numérique CN 3 \n",
    "</div>\n",
    "\n",
    "# - Evolution de la température par diffusion thermique -\n",
    ">Physique Chimie `CPGE PT` lien vers le blog <a> https://cpge-reunion-ptsi.blogspot.com/p/python.html </a>\n",
    "    >> Sujet inspiré par diverses lectures sur le net merci à leurs contributeurs.trices"
   ]
  },
  {
   "cell_type": "markdown",
   "metadata": {},
   "source": [
    "Dans ce notebook, on cherchera à simuler l’`évolution temporelle du profil de la température le long d'une barre métallique` cylindrique dont la surface latérale est calorifugée. \n",
    ">`L'extrémité droite` de la barre est en contact, supposé parfait, avec l'air de température $T_d = 20°C$. Avant le début de l'expérience, toute la barre est à l'équilibre thermique à la température $T_d$. \n",
    "\n",
    "A l'instant initial, on place `l'extrémité gauche` de la barre en contact d'une source de chaleur de température $T_g=40°C$. Ce contact est supposé parfait.\n",
    "\n",
    "![Barre.jpg](https://raw.githubusercontent.com/ptsireunion/CPGE-PT-Reunion/main/Barre.JPG)\n",
    "\n",
    "\n",
    "## Etude théorique\n",
    "\n",
    "On appelle désormais $L=0.5m$ la longueur de la barre.\n",
    "\n",
    "> **Question 1**\n",
    ">\n",
    "> Etablissez l'équation aux dérivées partielles vérifiées par la température dans la barre, aussi appelée \"équation de la chaleur à une dimension\". Au bout de combien de temps, en ordre de grandeur, peut-on considérer que le régime permanent est atteint au sein de la barre ? Déterminez alors le champ de température $T(x)$ en régime permanent dans la barre et représentez-le.\n",
    "\n",
    "\n",
    "## Etude numérique\n",
    "\n",
    "Nous allons dans la suite déterminer la température $T(x,t)$ :\n",
    "* en tout point de la barre\n",
    "* à tout instant de l'expérience considérée.\n",
    "\n",
    "Pour cela, nous allons découper la barre en tronçons de longueur $dx=1cm$.\n",
    "L'étude sera menée sur une durée de $\\Delta t = 45min$, avec un pas temporel de $dt=0.01s$.\n",
    "\n",
    "La fonction $T(x,t)$ sera donc approximée par un tableau ```T[i,j]``` de telle sorte que :\n",
    "$T[i,j]\\simeq T(x=j\\times dx,t=i\\times dt)$.\n",
    "\n",
    "Autrement dit, chaque ligne du tableau correspond à un instant de l'expérience (la ligne ```i=0``` correspondant à l'instant initial). Au sein d'une ligne, on parcourt la barre de gauche (```j=0```) à droite en incrémentant ```j```.\n",
    "\n",
    "![TableauT_i_j.jpg](https://raw.githubusercontent.com/ptsireunion/CPGE-PT-Reunion/main/TableauT_i_j.JPG)\n",
    "\n",
    "Le tableau utilisé est de type ```numpy.array```. On aura de plus besoin du module ```matplotlib.pyplot``` pour effectuer les représentations graphiques du champ de température.\n",
    "\n",
    "> On importer donc les modules nécessaires à l'étude :"
   ]
  },
  {
   "cell_type": "code",
   "execution_count": 4,
   "metadata": {},
   "outputs": [],
   "source": [
    "import numpy as np\n",
    "import matplotlib.pyplot as plt"
   ]
  },
  {
   "cell_type": "markdown",
   "metadata": {},
   "source": [
    "### Initialisation\n",
    "\n",
    "On nommera désormais les variables entières ```Nt``` et ```Nx``` correspondant respectivement au nombre de lignes du tableau ```T``` et au nombre de colonnes.\n",
    "\n",
    ">**Question 2**\n",
    ">\n",
    ">Définissons ```Nx``` et ```Nt``` sur Python.\n",
    ">>Créez le tableau ```T``` de bonnes dimensions, rempli pour le moment avec des 0 dans chaque case. \n",
    ">>Créez également les listes ```x``` et ```t``` correspondant respectivement aux valeurs de $x$ pour laquelle la température est évaluée, ainsi qu'aux instants $t$ de calcul."
   ]
  },
  {
   "cell_type": "code",
   "execution_count": 5,
   "metadata": {},
   "outputs": [
    {
     "ename": "SyntaxError",
     "evalue": "invalid syntax (<ipython-input-5-630999f599da>, line 10)",
     "output_type": "error",
     "traceback": [
      "\u001b[1;36m  File \u001b[1;32m\"<ipython-input-5-630999f599da>\"\u001b[1;36m, line \u001b[1;32m10\u001b[0m\n\u001b[1;33m    T=### A COMPLETER\u001b[0m\n\u001b[1;37m                     ^\u001b[0m\n\u001b[1;31mSyntaxError\u001b[0m\u001b[1;31m:\u001b[0m invalid syntax\n"
     ]
    }
   ],
   "source": [
    "dx=1e-2\n",
    "dt=1e-2\n",
    "\n",
    "L=0.5\n",
    "Deltat=45*60\n",
    "\n",
    "Nx=int(L/dx)+1\n",
    "Nt=int(Deltat/dt)+1\n",
    "\n",
    "T=### A COMPLETER\n",
    "\n",
    "x=### A COMPLETER\n",
    "t=### A COMPLETER"
   ]
  },
  {
   "cell_type": "markdown",
   "metadata": {},
   "source": [
    ">**Question 3**\n",
    ">\n",
    ">Remplir la première ligne du tableau ```T``` pour spécifier les conditions initiales de l'expérience."
   ]
  },
  {
   "cell_type": "code",
   "execution_count": null,
   "metadata": {},
   "outputs": [],
   "source": [
    "Tg=40 #NB : on peut travailler indifférence en °C ou K (on le verra avec le schéma numérique)\n",
    "Td=20\n",
    "\n",
    "T[0,0]=Tg\n",
    "for ### A COMPLETER\n",
    "    ### A COMPLETER"
   ]
  },
  {
   "cell_type": "markdown",
   "metadata": {},
   "source": [
    ">**Question 4**\n",
    ">\n",
    ">Tracez le profil de la température au sein de la barre à l'instant initial."
   ]
  },
  {
   "cell_type": "code",
   "execution_count": null,
   "metadata": {
    "scrolled": false
   },
   "outputs": [],
   "source": [
    "plt.close()\n",
    "plt.figure()\n",
    "plt.plot(### A COMPLETER)\n",
    "plt.grid()\n",
    "plt.xlabel(\"Position x (m)\")\n",
    "plt.ylabel(\"Température (°C)\")\n",
    "plt.title(\"Champ de température initial\")\n",
    "plt.show()"
   ]
  },
  {
   "cell_type": "markdown",
   "metadata": {},
   "source": [
    "### Itérations\n",
    "\n",
    ">**Question 5**\n",
    ">\n",
    "> Remplissez le tableau ```T``` de manière à imposer, à tout instant, les conditions aux limites aux deux extrémités de la barre."
   ]
  },
  {
   "cell_type": "code",
   "execution_count": null,
   "metadata": {},
   "outputs": [],
   "source": [
    "for i in range (1,Nt): # l'instant initial a déjà été traité\n",
    "    ### A COMPLETER\n",
    "    ### A COMPLETER"
   ]
  },
  {
   "cell_type": "markdown",
   "metadata": {},
   "source": [
    "Il s'agit donc désormais de résoudre l'équation :\n",
    "$$\\frac{\\partial T}{\\partial t} = D \\frac{\\partial^2 T}{\\partial x^2}$$"
   ]
  },
  {
   "cell_type": "markdown",
   "metadata": {},
   "source": [
    "> En utilisant l'approximation de la dérivée, exprimer $\\left(\\frac{\\partial T}{\\partial t}\\right)_{i,j}$ en fonction de `T[i,j]` et de la température de cases voisines du tableau dont une d'indice i+1, on obtient :"
   ]
  },
  {
   "cell_type": "markdown",
   "metadata": {},
   "source": [
    "$$\\left(\\frac{\\partial T}{\\partial t}\\right)_{i,j} \\simeq \\frac{T[i+1,j]-T[i,j]}{dt}$$"
   ]
  },
  {
   "cell_type": "markdown",
   "metadata": {},
   "source": [
    ">**Question 6**\n",
    ">\n",
    ">  Soit une fonction $f$. En écrivant la formule de Taylor à l’ordre 2 pour $f(x+dx)$ et $f(x-dx)$, démontrer que : \n",
    "> $$ f''(x)\\simeq\\frac{f(x+dx)+f(x-dx)-2f(x)}{dx^2}$$"
   ]
  },
  {
   "cell_type": "markdown",
   "metadata": {},
   "source": [
    ">**Question 7**\n",
    ">\n",
    "> En déduire l'approximation de $\\left(\\frac{\\partial^2 T}{\\partial x^2}\\right)_{i,j}$ en fonction de `T[i,j]` et de la température de cases voisines du tableau."
   ]
  },
  {
   "cell_type": "markdown",
   "metadata": {},
   "source": [
    "$$\\left(\\frac{\\partial^2 T}{\\partial x^2}\\right)_{i,j} \\simeq \\frac{T[i,j+1]+T[i,j-1]-2T[i,j]}{dx^2}$$"
   ]
  },
  {
   "cell_type": "markdown",
   "metadata": {},
   "source": [
    "> **Question 8**\n",
    ">\n",
    "> En déduire que la résolution de l'équation de diffusion thermique dans la barre se ramène au schéma numérique :\n",
    "> $$ T[i+1,j]=T[i,j]+\\frac{D dt}{dx^2} \\left( T[i,j+1]+T[i,j-1]-2T[i,j]\\right)$$"
   ]
  },
  {
   "cell_type": "markdown",
   "metadata": {},
   "source": [
    "On peut montrer (...) qu'un tel schéma numérique converge si $\\frac{D dt}{dx^2}<\\frac{1}{2}$. Avec les valeurs de $dx$ et de $dt$ choisies, cette condition est respectée pour un matériau de coefficient de diffusivité thermique usuelle $D=1.10^{-4} m^2.s^{-1}$. On adoptera donc cette valeur de $D$ pour la suite."
   ]
  },
  {
   "cell_type": "markdown",
   "metadata": {},
   "source": [
    ">**Question 9**\n",
    ">\n",
    "> Démontrez qu'avec la valeur de D précédente notre simulation, réalisée sur la durée $\\Delta t = 45min$, permet d'atteindre le régime permanent. \n",
    ">\n",
    "> Implémentez le schéma numérique précédent pour réaliser le remplissage du tableau ```T``` dans son intégralité."
   ]
  },
  {
   "cell_type": "code",
   "execution_count": null,
   "metadata": {},
   "outputs": [],
   "source": [
    "D=1e-4\n",
    " \n",
    "for i in range(### A COMPLETER): #on remplit à l'indice i+1\n",
    "    for j in range(### A COMPLETER): #les conditions aux limites sont déjà fixées\n",
    "        T[i+1,j]=T[i,j]+D*dt/(dx*dx)*(T[i,j+1]+T[i,j-1]-2*T[i,j])"
   ]
  },
  {
   "cell_type": "markdown",
   "metadata": {},
   "source": [
    "> A l'aide de la fonction ```plt.imshow```, on visualise le tableau ```T```. On utilise l'argument ```aspect=\"auto\"``` pour obtenir une image lisible."
   ]
  },
  {
   "cell_type": "code",
   "execution_count": null,
   "metadata": {},
   "outputs": [],
   "source": [
    "plt.close()\n",
    "plt.figure()\n",
    "plt.imshow(T,aspect=\"auto\")\n",
    "plt.show()"
   ]
  },
  {
   "cell_type": "markdown",
   "metadata": {},
   "source": [
    "Voici ce que vous devriez obtenir :\n",
    "\n",
    "![TableauT.jpg](https://raw.githubusercontent.com/ptsireunion/CPGE-PT-Reunion/main/TableauT.png)"
   ]
  },
  {
   "cell_type": "markdown",
   "metadata": {},
   "source": [
    ">**Question 10**\n",
    ">Sur la figure pécédente, isolez les profils de température à t=0 et t=25min et représentez-les. Vérifiez que vous retrouvez l'un des profils étudié précédemment.\n",
    ">\n",
    ">Pour différents instants bien choisis sur $\\Delta t = 45min$, tracez sur un même graphique l'évolution de la température au sein de la barre. Commentez les courbes."
   ]
  },
  {
   "cell_type": "code",
   "execution_count": null,
   "metadata": {},
   "outputs": [],
   "source": [
    "instants_min=[0,### A COMPLETER,45] #instants choisis en minutes\n",
    "\n",
    "plt.close()\n",
    "plt.figure()\n",
    "for k in range(len(instants_min)):\n",
    "    i=int(instants_min[k]*60/dt)\n",
    "    plt.plot(### A COMPLETER,label=\"t=\"+str(instants_min[k])+\"min\")\n",
    "plt.xlabel(\"Position (m)\")\n",
    "plt.ylabel(\"Température (°C)\")\n",
    "plt.title(\"Evolution de la température dans la barre à différents instants\")\n",
    "plt.legend()\n",
    "plt.grid()\n",
    "\n",
    "tau_min=L*L/D*1/60\n",
    "\n",
    "plt.text(0.201,38,\"tau=L²/D=\"+str(tau_min)[0:2]+\"min\")\n",
    "\n",
    "plt.show()"
   ]
  },
  {
   "cell_type": "markdown",
   "metadata": {},
   "source": [
    "Voici ce que vous devriez obtenir :\n",
    "![ProfilsT.jpg](https://raw.githubusercontent.com/ptsireunion/CPGE-PT-Reunion/main/ProfilsT.png)"
   ]
  },
  {
   "cell_type": "markdown",
   "metadata": {},
   "source": [
    ">**Question 11**\n",
    "> \n",
    "> En comparant ces courbes avec la précédente, expliquer en quoi elles sont cohérentes en particulier à partir d'environ 100000 pas de calcul"
   ]
  }
 ],
 "metadata": {
  "kernelspec": {
   "display_name": "Python 3",
   "language": "python",
   "name": "python3"
  },
  "language_info": {
   "codemirror_mode": {
    "name": "ipython",
    "version": 3
   },
   "file_extension": ".py",
   "mimetype": "text/x-python",
   "name": "python",
   "nbconvert_exporter": "python",
   "pygments_lexer": "ipython3",
   "version": "3.7.6"
  },
  "toc": {
   "base_numbering": 1,
   "nav_menu": {},
   "number_sections": false,
   "sideBar": true,
   "skip_h1_title": false,
   "title_cell": "",
   "title_sidebar": "Sommaire",
   "toc_cell": true,
   "toc_position": {
    "height": "calc(100% - 180px)",
    "left": "10px",
    "top": "150px",
    "width": "273.6px"
   },
   "toc_section_display": true,
   "toc_window_display": true
  }
 },
 "nbformat": 4,
 "nbformat_minor": 2
}
