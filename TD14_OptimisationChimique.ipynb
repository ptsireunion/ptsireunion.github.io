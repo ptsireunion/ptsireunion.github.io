{
 "cells": [
  {
   "cell_type": "markdown",
   "metadata": {},
   "source": [
    "![WeTheGeeksV3.jpg](https://raw.githubusercontent.com/ptsireunion/CPGE-PT-Reunion/main/WeTheGeeksV3.jpg)\n",
    " \n",
    "<div class=\"alert alert-block alert-info\">\n",
    "    <b> PYTHON – Travaux Dirigés N°14\n",
    "</div>\n",
    "\n",
    "# Thermochimie - Optimisation chimique\n",
    ">Physique Chimie `CPGE PT` lien vers le blog <a> https://cpge-reunion-ptsi.blogspot.com/p/python_6.html </a>\n"
   ]
  },
  {
   "cell_type": "raw",
   "metadata": {},
   "source": [
    "## Dans ce notebook, on va `étudier un facteur d'influence d'un équilibre chimique`. On cherchera en particulier à optimiser une fraction molaire en fonction de ce facteur. On utilisera à profit `la méthode de la dichotomie `. On comparera les résultats nos résultats avec une loi de modération."
   ]
  },
  {
   "cell_type": "code",
   "execution_count": 2,
   "metadata": {},
   "outputs": [],
   "source": [
    "# import des librairies \n",
    "import numpy as np\n",
    "import matplotlib.pyplot as plt"
   ]
  },
  {
   "cell_type": "markdown",
   "metadata": {},
   "source": [
    "##  Synthèse de l'ammoniac - Influence de la pression"
   ]
  },
  {
   "cell_type": "markdown",
   "metadata": {},
   "source": [
    "> **Question 1** :\n",
    "> Écrire l’équation de la réaction de formation de l’ammoniac en choisissant comme nombres stoëchiométriques les\n",
    "plus petits entiers possible."
   ]
  },
  {
   "cell_type": "markdown",
   "metadata": {},
   "source": [
    "On réalise différentes simulations numériques de la fraction molaire en ammoniac $\\text{x}_\\text{NH3}$ dans le mélange à l’équilibre\n",
    "en faisant varier indépendamment la pression à température fixe et dans le cas de conditions initiales stoëchiométriques. On obtient les résultats suivants.\n",
    ">\n",
    ">![x_de_P.jpg](https://raw.githubusercontent.com/ptsireunion/CPGE-PT-Reunion/main/x_de_P.jpg)"
   ]
  },
  {
   "cell_type": "markdown",
   "metadata": {},
   "source": [
    "> **Question 2** :\n",
    "> Démontrer que la loi de modération de Le Châtelier est vérifiée"
   ]
  },
  {
   "cell_type": "markdown",
   "metadata": {},
   "source": [
    "On cherche à déterminer la fraction molaire d'ammoniac $\\text{x}_\\text{NH3}$  du mélange réactionnel une fois l’état d’équilibre chimique atteint. On se place dans les conditions industrielles à 450 °C, proportions stoëchiométriques, diazote pur obtenu par filtration d’air dans le réacteur. On raisonne pour une quantité de matière initiale $n^0_{N_2}= n mol$ de diazote. Le réactif coûteux étant le dihydrogène, on s’intéresse à son taux de conversion $τ$ , défini comme le rapport entre la quantité de matière de dihydrogène consommée et la quantité de matière de dihydrogène apportée dans le réacteur. On prendre comme constante d'équilibre $K^0=2,76.10^{-5}$ pour une température $T=450^0C$"
   ]
  },
  {
   "cell_type": "markdown",
   "metadata": {},
   "source": [
    "> **Question 2** : Montrer que l’avancement de la réaction est donné par $ξ = τ.n$"
   ]
  },
  {
   "cell_type": "markdown",
   "metadata": {},
   "source": [
    "> Corrigé partiel :\n",
    "\n",
    "&nbsp;\n",
    "tableau d'avancement en fonction de $\\xi$ :\n",
    "\n",
    "|$\\text{mol}$|$\\text{N}_{2(g)}$|$+ \\text{3H}_{2(g)}$|$\\to \\text{NH}_{3(g)}$|$n_\\text{tot}^\\text{gaz}$|\n",
    "|:------------|:-------:|:-------:|:-------:|:------------:|\n",
    "|$\\text{E.I.}$|$n$    |$3n$    |$0$    |$n+3n$    |\n",
    "|$\\forall t$  |$n-\\xi$|$3n-3\\xi$|$2\\xi$|$4n-2\\xi$|"
   ]
  },
  {
   "cell_type": "markdown",
   "metadata": {},
   "source": [
    "> **Question 3** : Montrer que la quantité totale de gaz $n_\\text{tot}^\\text{gaz}=\\dfrac{17}{4}.n-2\\tau.n$"
   ]
  },
  {
   "cell_type": "markdown",
   "metadata": {},
   "source": [
    "> **Question 4** : Montrer que la fraction molaire $x_{NH_3}=\\dfrac{1}{\\dfrac{17}{8.\\tau}-1}$"
   ]
  },
  {
   "cell_type": "markdown",
   "metadata": {},
   "source": [
    "> **Question 5** : Montrer que le quotient réactionnel $Q=\\dfrac{4.\\tau^2}{27.(1-\\tau)^4}.(\\dfrac{17}{4}-2\\tau)^2.(\\dfrac{P^0}{P})^2$"
   ]
  },
  {
   "cell_type": "markdown",
   "metadata": {},
   "source": [
    "# Mise en œuvre numérique avec la méthode de DICHOTOMIE\n",
    "&nbsp;\n",
    "Les méthodes de dichotomie et de Newton vues en 1ère année permettent de trouver une racine d'une fonction $f$ quelconque dans un intervalle $[a,b]$ ou à partir d'une valeur proche. On s'intéressera à la 1ère\n",
    "\n",
    "&nbsp;\n",
    "L'intervalle de recherche à donner pour la méthode de `dichotomie` est celui compris entre les valeurs extrêmes possibles de $\\tau$ : $\\tau_\\text{min}=0\\text{mol}$ (réaction quantitative en sens indirect) et $\\tau_\\text{max}=0,999\\text{mol}$ (exclu de la recherche car cela donnerait $Q\\to +\\infty$).\n",
    "\n",
    "&nbsp;\n",
    "Il ne reste qu'à coder une fonction $\\tau \\mapsto Q(\\tau)-K^\\circ$  qui s'annule à l'équilibre."
   ]
  },
  {
   "cell_type": "markdown",
   "metadata": {},
   "source": [
    "> **Question 6** : Ecrire la fonction $f$ qui prend $\\tau$ et la pression $P$ comme arguments et qui retourne la valeur théorique de ma différence entre le quotient réactionnel et la constante de réaction"
   ]
  },
  {
   "cell_type": "code",
   "execution_count": 3,
   "metadata": {},
   "outputs": [],
   "source": [
    "# fonction qui s'annule lorsque tau=tau_eq\n",
    "K = 2.76e-5\n",
    "def f(.......................):\n",
    "    return ...............................................................\n"
   ]
  },
  {
   "cell_type": "markdown",
   "metadata": {},
   "source": [
    "Écrire un code Python calculant par dichotomie la valeur de τ à l’équilibre avec une précision de 0,1 %. On\n",
    "commencera par préciser l’intervalle de valeurs dans lequel chercher la solution"
   ]
  },
  {
   "cell_type": "markdown",
   "metadata": {},
   "source": [
    "> **Question 7** : Ecrire une fonction 'rechercheDichoZero' calculant par dichotomie la valeur de $τ$ à l’équilibre  qui prend $f$, $\\tau_\\text{max}$, $\\tau_\\text{min}$ , $P$ et $\\varepsilon$ comme arguments et qui retourne la valeur théorique de $\\tau$"
   ]
  },
  {
   "cell_type": "code",
   "execution_count": 4,
   "metadata": {},
   "outputs": [],
   "source": [
    "def rechercheDichoZero(...................................) :\n",
    "    min = ......................................\n",
    "    max = ................................\n",
    "    while ...................\n",
    "        .....................\n",
    "        if ....................\n",
    "            .............................\n",
    "        .........................\n",
    "            ...................\n",
    "        .....................\n",
    "            .............................\n",
    "    return .................................."
   ]
  },
  {
   "cell_type": "markdown",
   "metadata": {},
   "source": [
    "> **Question 8** : Calculer  avec une précision de $\\varepsilon=0,1$ pourcent la fraction molaire d'ammoniac $\\text{x}_\\text{NH3}$ pour une pression $P=300bars$. Comparer cette valeur à celle donnée sur la courbe initiale."
   ]
  },
  {
   "cell_type": "code",
   "execution_count": 12,
   "metadata": {},
   "outputs": [
    {
     "name": "stdout",
     "output_type": "stream",
     "text": [
      "0.31083034415621774\n"
     ]
    }
   ],
   "source": [
    "    tau=......................................\n",
    "    print(..................................)"
   ]
  },
  {
   "cell_type": "markdown",
   "metadata": {},
   "source": [
    "> **Question 9** : Représenter toute la courbe de $\\text{x}_\\text{NH3}$ en fonction de la Pression entre 0 et 500 bars. Comparer à la courbe fournie"
   ]
  },
  {
   "cell_type": "code",
   "execution_count": 1,
   "metadata": {},
   "outputs": [
    {
     "ename": "SyntaxError",
     "evalue": "invalid syntax (4891861.py, line 1)",
     "output_type": "error",
     "traceback": [
      "\u001b[1;36m  Cell \u001b[1;32mIn[1], line 1\u001b[1;36m\u001b[0m\n\u001b[1;33m    pression= ..........................................\u001b[0m\n\u001b[1;37m                 ^\u001b[0m\n\u001b[1;31mSyntaxError\u001b[0m\u001b[1;31m:\u001b[0m invalid syntax\n"
     ]
    }
   ],
   "source": [
    "pression= ..........................................\n",
    "xammo=[]\n",
    "for .............................:\n",
    "    tau=..............................\n",
    "    x=..................................\n",
    "    xammo.append.........................\n",
    "\n",
    "#plt.figure(figsize=(7,5))\n",
    "plt.plot(...............................................)\n",
    "plt.ylabel('xNH3')\n",
    "plt.xlabel('Pression (bar)')\n",
    "plt.title('xNH3(P)')\n",
    "plt.grid(True)\n",
    "plt.show()"
   ]
  },
  {
   "cell_type": "code",
   "execution_count": null,
   "metadata": {},
   "outputs": [],
   "source": []
  }
 ],
 "metadata": {
  "kernelspec": {
   "display_name": "Python [conda env:base] *",
   "language": "python",
   "name": "conda-base-py"
  },
  "language_info": {
   "codemirror_mode": {
    "name": "ipython",
    "version": 3
   },
   "file_extension": ".py",
   "mimetype": "text/x-python",
   "name": "python",
   "nbconvert_exporter": "python",
   "pygments_lexer": "ipython3",
   "version": "3.13.5"
  }
 },
 "nbformat": 4,
 "nbformat_minor": 4
}
