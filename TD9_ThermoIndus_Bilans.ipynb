{
 "cells": [
  {
   "cell_type": "markdown",
   "metadata": {},
   "source": [
    "![WeTheGeeksV3.jpg](https://raw.githubusercontent.com/ptsireunion/CPGE-PT-Reunion/main/WeTheGeeksV3.jpg)\n",
    " \n",
    "<div class=\"alert alert-block alert-info\">\n",
    "    <b> PYTHON – Travaux Dirigés N°9\n",
    "</div>\n",
    "\n",
    "# Thermodynamique - Compressions\n",
    ">Physique Chimie `CPGE PT` lien vers le blog <a> https://cpge-reunion-ptsi.blogspot.com/p/python_6.html </a>"
   ]
  },
  {
   "cell_type": "markdown",
   "metadata": {},
   "source": [
    "Dans ce notebook, on va `comparer différents type de compression d'un gaz parfait : isotherme, polytropique et isentropique`. On s'intéressera en particulier à l'évolution du travail de compression en fonction du coefficient."
   ]
  },
  {
   "cell_type": "markdown",
   "metadata": {},
   "source": [
    "# Représentation des courbes de compression dans un diagramme $P(v)$"
   ]
  },
  {
   "cell_type": "markdown",
   "metadata": {},
   "source": [
    "Commençons par définir les constantes et importer les librairies"
   ]
  },
  {
   "cell_type": "code",
   "execution_count": 5,
   "metadata": {},
   "outputs": [],
   "source": [
    "# import des librairies \n",
    "import numpy as np\n",
    "import matplotlib.pyplot as plt\n",
    "\n",
    "# ------------------ PARAMÈTRES ------------------\n",
    "P1 = 1e5       # Pa\n",
    "v1 = 0.1       # m^3/kg\n",
    "gamma = 1.4    # isentropique\n",
    "n_poly = 1.3   # polytropique\n",
    "n_iso = 1.0    # isotherme"
   ]
  },
  {
   "cell_type": "markdown",
   "metadata": {},
   "source": [
    "> **Question 1** :\n",
    "> Donner les 3 équations qui décrivent l'évolution de la pression $P$ en fonction du volume massique $v$ pour les 3 types d'évolution.\n",
    "> >Pour une compression isentropique, c'est la Loi de Laplace qui permet de donner cette équation.\n",
    "> >Pour une compression polytropique, c'est la Loi de Laplace en remplaçant $\\gamma$ par un autre coefficient qu'on peut appeler $k$ qui permet de donner cette équation.\n",
    "> >Pour la compression isotherme c'est la loi des gaz parfaits."
   ]
  },
  {
   "cell_type": "markdown",
   "metadata": {},
   "source": [
    "On choisit un taux de compression $a=\\dfrac{P_1}{P_2}=5$ en partant de la pression atmosphérique $P_1=1 bar$\n",
    "> **Question 2** :\n",
    "> Donner les 3 expressions du volume final $v_2$ après compression en fonction du coefficient de compression, de $P_1$, $P_2$ et $v_2$... Puis écrire le code pour les calculer  "
   ]
  },
  {
   "cell_type": "markdown",
   "metadata": {},
   "source": [
    "> **Question 3** :\n",
    "> Ecrire une fonction 'P_of_v' qui retourne la valeur d'une pression $P$ en fonction d'un volume $v$, du coefficient de compression $n$, qui peut prend les valeurs $1$, $1.3$ ou $1.4$ et des coordonnées des grandeurs initiales $P_1$ et $v_1$"
   ]
  },
  {
   "cell_type": "code",
   "execution_count": 6,
   "metadata": {},
   "outputs": [
    {
     "ename": "SyntaxError",
     "evalue": "invalid syntax (3182903284.py, line 2)",
     "output_type": "error",
     "traceback": [
      "\u001b[1;36m  Cell \u001b[1;32mIn[6], line 2\u001b[1;36m\u001b[0m\n\u001b[1;33m    return ....................\u001b[0m\n\u001b[1;37m              ^\u001b[0m\n\u001b[1;31mSyntaxError\u001b[0m\u001b[1;31m:\u001b[0m invalid syntax\n"
     ]
    }
   ],
   "source": [
    "def P_of_v(P1, v1, n, v):\n",
    "    return ...................."
   ]
  },
  {
   "cell_type": "markdown",
   "metadata": {},
   "source": [
    "> **Question 4** :\n",
    "> Créez les tableaux de couples de valeurs qui serviront à faire la eprésentation des 3 compressions dans un diagramme $P(v)$ "
   ]
  },
  {
   "cell_type": "code",
   "execution_count": null,
   "metadata": {},
   "outputs": [],
   "source": [
    "# Isotherme\n",
    "v_iso = np.linspace(...................., 200)\n",
    "P_iso = P....................\n",
    "    \n",
    "# Polytropique\n",
    "v_poly = np.linspace(...................., 200)\n",
    "P_poly = ....................\n",
    "\n",
    "# Isentropique\n",
    "v_gamma = np.linspace(...................., 200)\n",
    "P_gamma = ...................."
   ]
  },
  {
   "cell_type": "markdown",
   "metadata": {},
   "source": [
    "> **Question 5** :\n",
    "> Représentez les 3 courbes de compression"
   ]
  },
  {
   "cell_type": "code",
   "execution_count": null,
   "metadata": {},
   "outputs": [],
   "source": [
    "# ------------------ PLOT ------------------\n",
    "plt.figure(figsize=(8,6))\n",
    "plt.plot(...................., label=\"Isotherme (n=1)\")\n",
    "plt.plot(...................., label=f\"Polytropique n={n_poly}\")\n",
    "plt.plot(...................., label=f\"Isentropique γ={gamma}\")\n",
    "\n",
    "plt.xlabel(\"Volume spécifique v (m³/kg)\")\n",
    "plt.ylabel(\"Pression (bar)\")\n",
    "plt.title(\"Compression : comparaison isotherme, polytropique et isentropique\\n(P2 identique)\")\n",
    "plt.grid(True)\n",
    "plt.legend()\n",
    "plt.tight_layout()\n",
    "plt.show()\n"
   ]
  },
  {
   "cell_type": "markdown",
   "metadata": {},
   "source": [
    "# Calcul du travail de compression"
   ]
  },
  {
   "cell_type": "markdown",
   "metadata": {},
   "source": [
    "## Approche théorique"
   ]
  },
  {
   "cell_type": "markdown",
   "metadata": {},
   "source": [
    "> **Question 6** : On propose de regrouper les équations de compression sous la forme $P.v^n=cste$ avec $n$ pouvant prendre 3 valeurs. Démontrer que les expressions théoriques du travail de compression entre $P_1(v_1)$ et $P_2(v_2)$ pour le cas isotherme et les deux autres sont respectivement :\n",
    "> >$P_1.v_1.ln(\\dfrac{v_2}{v_1})$ et $\\dfrac{P_2*v_2-P_1-v_1}{1-n}$"
   ]
  },
  {
   "cell_type": "markdown",
   "metadata": {},
   "source": [
    "> **Question 7** : Ecrire une fonction 'work_polytropic' qui prend $P_1$, $v_1$, $P_2$, $v_2$ et $n$ comme arguments et qui retourne la valeur théorique du travail de compression en fonction de celle de $n$. Puis faire les calculs et afficher les résultats"
   ]
  },
  {
   "cell_type": "code",
   "execution_count": null,
   "metadata": {},
   "outputs": [],
   "source": [
    "# ------------------ CALCUL TRAVAIL ANALYTIQUE ------------------\n",
    "def work_polytropic(P1, v1, P2, v2, n):\n",
    "    if ....................  # isotherme\n",
    "        return ....................\n",
    "    else:\n",
    "        return ....................\n",
    "\n",
    "W_iso_ana = ....................\n",
    "W_poly_ana = ....................\n",
    "W_gamma_ana = ....................\n",
    "\n",
    "# ------------------ AFFICHAGE RÉSULTATS ------------------\n",
    "print(\"Travail (compression) [J/kg] :\")\n",
    "print(f\"Isotherme (n=1)      :  Analytique = {W_iso_ana:.2f}\")\n",
    "print(f\"Polytropique (n={n_poly}) :  Analytique = {W_poly_ana:.2f}\")\n",
    "print(f\"Isentropique (γ={gamma}) :  Analytique = {W_gamma_ana:.2f}\")"
   ]
  },
  {
   "cell_type": "markdown",
   "metadata": {},
   "source": [
    "## Approche numérique"
   ]
  },
  {
   "cell_type": "markdown",
   "metadata": {},
   "source": [
    "> **Question 8** : Ecrire une fonction 'integrale_trapezes' qui prend des tableaux $v$ et $P$ comme arguments et qui retourne la valeur théorique du travail de compression par intégration des courbes de compression par la méthode des trapèzes. Puis faire les calculs et afficher les résultats en les comparant aux résultats théoriques."
   ]
  },
  {
   "cell_type": "code",
   "execution_count": null,
   "metadata": {},
   "outputs": [],
   "source": [
    "def integrale_trapezes(v, P, color=\"g\"):\n",
    "    I = 0.0\n",
    "    for ....................\n",
    "        ....................\n",
    "        # dessin du trapèze#\n",
    "        x_trap = ....................\n",
    "        y_trap = ....................\n",
    "        plt.plot(x_trap, y_trap, color=color)\n",
    "    return I\n",
    "\n",
    "plt.figure(figsize=(9,6))\n",
    "\n",
    "W_iso_trap = ....................\n",
    "W_poly_trap = ....................\n",
    "W_gamma_trap = ....................\n",
    "\n",
    "# ------------------ AFFICHAGE COMPARAISON RÉSULTATS ------------------\n",
    "print(\"Travail (compression) [J/kg] :\")\n",
    "print(f\"Isotherme (n=1)      : Numérique = {W_iso_trap:.2f}, Analytique = {W_iso_ana:.2f}\")\n",
    "print(f\"Polytropique (n={n_poly}) : Numérique = {W_poly_trap:.2f}, Analytique = {W_poly_ana:.2f}\")\n",
    "print(f\"Isentropique (γ={gamma}) : Numérique = {W_gamma_trap:.2f}, Analytique = {W_gamma_ana:.2f}\")"
   ]
  },
  {
   "cell_type": "markdown",
   "metadata": {},
   "source": [
    "> **Question 9** : Ecrire le code pour calculer et représenter l'évolution du travail de compression pour des valeurs de n variant de $1$ à $2$"
   ]
  },
  {
   "cell_type": "code",
   "execution_count": null,
   "metadata": {},
   "outputs": [],
   "source": [
    "# ------------------ TRAVAIL EN FONCTION DE n ------------------\n",
    "n_values = ....................\n",
    "W_values = []\n",
    "\n",
    "for ....................\n",
    "    ....................\n",
    "    ....................\n",
    "\n",
    "plt.figure(figsize=(7,5))\n",
    "plt.plot(...................., ...................., 'b-')\n",
    "plt.xlabel('n')\n",
    "plt.ylabel('Travail W (J)')\n",
    "plt.title('Travail de compression en fonction de n')\n",
    "plt.grid(True)\n",
    "plt.show()"
   ]
  }
 ],
 "metadata": {
  "kernelspec": {
   "display_name": "Python [conda env:base] *",
   "language": "python",
   "name": "conda-base-py"
  },
  "language_info": {
   "codemirror_mode": {
    "name": "ipython",
    "version": 3
   },
   "file_extension": ".py",
   "mimetype": "text/x-python",
   "name": "python",
   "nbconvert_exporter": "python",
   "pygments_lexer": "ipython3",
   "version": "3.13.5"
  }
 },
 "nbformat": 4,
 "nbformat_minor": 4
}
