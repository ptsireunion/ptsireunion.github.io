{
 "cells": [
  {
   "cell_type": "markdown",
   "metadata": {},
   "source": [
    "![WeTheGeeksV3.jpg](https://raw.githubusercontent.com/ptsireunion/CPGE-PT-Reunion/main/WeTheGeeksV3.jpg)\n",
    " \n",
    "<div class=\"alert alert-block alert-info\">\n",
    "    <b> PYTHON – Travaux Dirigés N°7\n",
    "</div>\n",
    "\n",
    "# STATIQUE DES FLUIDES\n",
    ">Physique Chimie `CPGE PT` lien vers le blog <a> https://cpge-reunion-ptsi.blogspot.com/p/info-pyhton.html </a>\n",
    "    >> Sujet inspiré par diverses lectures sur le net. Merci à leurs contributeurs.trices"
   ]
  },
  {
   "cell_type": "markdown",
   "metadata": {},
   "source": [
    "Dans ce notebook, on fait la `comparaison des profils de pression atmosphérique de deux modèles théoriques et du modèle standard`"
   ]
  },
  {
   "cell_type": "code",
   "execution_count": 2,
   "metadata": {},
   "outputs": [],
   "source": [
    "# commande permettant d'insérer les figures matplotlib dans les notebooks\n",
    "# %matplotlib widget\n",
    "\n",
    "# import des librairies \n",
    "import numpy as np\n",
    "from scipy.integrate import odeint\n",
    "from scipy import interpolate\n",
    "import matplotlib.pyplot as plt"
   ]
  },
  {
   "cell_type": "markdown",
   "metadata": {},
   "source": [
    "# Trois profils de température atmosphérique\n",
    "> **Question 1** :\n",
    "> Le fluide air en statique est soumis à un ensemble de forces volumiques et surfaciques. Dans la modélisation la plus simple, les forces surfaciques se limitent aux forces de pression et les forces volumiques à celle de la pesanteur. En appliquant le principe fondamental de la statique projeté sur l'axe vertical $z$, démontrer l'équation différentielle suivante : $$\\dfrac{\\text{d}P}{\\text{d}z}=-\\mu g$$\n",
    "où $z$ est l'altitude, $P$ la pression, $\\mu$ la masse volumique locale et $g$ l'intensité de pesanteur.\n",
    "\n",
    "> **Question 2** :\n",
    "> En modélisant l'air comme un gaz parfait de masse molaire $M$, montrer que : \n",
    "$$\\mu=\\dfrac{PM}{RT}$$\n",
    "où $R$ est la constante des gaz parfaits.\n",
    "\n",
    "> **Question 3** :\n",
    "> En déduire que : \n",
    "$$\\dfrac{\\text{d}P}{\\text{d}z}=-\\dfrac{PM}{RT} g$$\n",
    "\n",
    "&nbsp; Il reste à caractériser l'évolution de la température $T=f(z)$.\n",
    "Les divers modèles proposés sont les suivants :\n",
    "* modèle isotherme $T=T_0=15°C$ ;\n",
    "* modèle adiabatique $T=T_0\\left(1-\\alpha z\\right)$ avec $\\alpha=2.24.10^{-5}$ $°C/km$;\n",
    "* modèle standard tabulé (voir les données ci-dessous qui seront interpolées par la méthode `interpolate.interp1d` (<a href=\"https://docs.scipy.org/doc/scipy/reference/generated/scipy.interpolate.interp1d.html\"> doc. </a>) de la librairie `scipy`.). "
   ]
  },
  {
   "cell_type": "markdown",
   "metadata": {},
   "source": [
    "&nbsp; On cherche à superposer les 3 profils de température dont voici les données utiles :"
   ]
  },
  {
   "cell_type": "code",
   "execution_count": 3,
   "metadata": {},
   "outputs": [],
   "source": [
    "# Données générales\n",
    "P0 = 1e5\n",
    "g = 9.81\n",
    "M = 29e-3\n",
    "R = 8.314\n",
    "\n",
    "# Atmosphère isotherme\n",
    "T0 = 273+15\n",
    "\n",
    "# Atmosphère adiabatique\n",
    "alpha = 2.24e-05\n",
    "\n",
    "# Atmosphère standard\n",
    "z_data = np.array([0,1000, 2000, 3000, 4000, 5000, 6000, 7000, 8000, 9000, 10000, 15000, 20000, 25000, 30000, 40000, 50000, 60000, 70000, 80000])\n",
    "T_data = np.array([15, 8.5, 2.0, -4.49, -10.98, -17.47, -23.96, -30.45, -36.94, -43.42, -49.90, -56.50, -56.50, -51.60, -46.64, -22.8, -2.5, -26.13, -53.57, -74.51])"
   ]
  },
  {
   "cell_type": "markdown",
   "metadata": {},
   "source": [
    "> **Question 4** :\n",
    "> Compléter le programme suivant qui permet de superposer les 3 profils de température"
   ]
  },
  {
   "cell_type": "code",
   "execution_count": 5,
   "metadata": {},
   "outputs": [
    {
     "ename": "SyntaxError",
     "evalue": "invalid syntax (595383088.py, line 3)",
     "output_type": "error",
     "traceback": [
      "\u001b[1;36m  File \u001b[1;32m\"C:\\Users\\roque\\AppData\\Local\\Temp\\ipykernel_11432\\595383088.py\"\u001b[1;36m, line \u001b[1;32m3\u001b[0m\n\u001b[1;33m    return ...................................\u001b[0m\n\u001b[1;37m              ^\u001b[0m\n\u001b[1;31mSyntaxError\u001b[0m\u001b[1;31m:\u001b[0m invalid syntax\n"
     ]
    }
   ],
   "source": [
    "# Atmosphère isotherme\n",
    "def T_isoT(z):\n",
    "    return ...................................\n",
    "\n",
    "# Atmosphère adiabatique\n",
    "def T_adiab(z):\n",
    "    return ...................................\n",
    "\n",
    "# Modèle valable pour z > 0 représenté jusqu'à 80km\n",
    "z_isoT = np.linspace(0,80000,100000)\n",
    "# Modèle valable pour 0 < z < 30km)\n",
    "z_adiab = np.linspace(0,30000,100000)\n",
    "# Modèle valable pour 0 < z < 80km\n",
    "z_standard = np.linspace(0,79000,100000) #il semble qu'on doivent enlever la dernière valeur sinon elle est en trop pour odeint??\n",
    "\n",
    "plt.figure(\"Courbes modèles de température atmosphérique\")\n",
    "plt.plot(T0*..................................., z_isoT, label=\"Modèle isotherme\" )\n",
    "plt.plot(T_adiab(z_adiab), z_adiab, label=\"Modèle adiabatique\" )\n",
    "plt.plot(T_data+..................................., z_data, label=\"Modèle standard\" )\n",
    "plt.xlabel(\"Température en K\")\n",
    "plt.ylabel(\"Altitude en m\")\n",
    "plt.legend()\n",
    "plt.grid(True)\n",
    "plt.show()"
   ]
  },
  {
   "cell_type": "markdown",
   "metadata": {},
   "source": [
    "# Atmosphère isotherme"
   ]
  },
  {
   "cell_type": "markdown",
   "metadata": {},
   "source": [
    "> **Question 4**\n",
    "> Résoudre l'équation différentielle pour en déduire $P(z)$ dans le cas isotherme"
   ]
  },
  {
   "cell_type": "markdown",
   "metadata": {},
   "source": [
    "## Comparaison des méthodes d'Euler et Odeint"
   ]
  },
  {
   "cell_type": "markdown",
   "metadata": {},
   "source": [
    "On va résoudre numériquement l'équation différentielle dans le cas d'une atmosphère isotherme avec les deux méthodes que nous connaissons: la méthode d'Euler et celle intégrée à Python nommée \"Odeint\" déjà vue précédemment. Pour montrer l'intérêt de la 2ème sur la première, on va imposer un pas spatial $dz$ de $1000 km$. \n"
   ]
  },
  {
   "cell_type": "markdown",
   "metadata": {},
   "source": [
    "Rappel : L'intégration numérique  de la méthode `odeint` se fait à l'aide de la librairie `scipy`. Elle permet de résoudre les équations différentielles écrites sous la forme $\\frac{\\text{d}x}{\\text{d}t}=f(x,t)$ de façon plus précise que la méthode d'Euler à discrétisation identique. &nbsp;\n",
    "Il faut donc créer une fonction `deriv_isoT`qui renvoie la valeur du second membre $f$ de l'équation différentielle et permet ensuite sa résolution. Attention, il faudra également créer une matrice de valeurs $T_0$ qui sera un des arguments de `odeint`\n",
    "Pour plus d'informations : https://docs.scipy.org/doc/scipy/reference/generated/scipy.integrate.odeint.html#odeint"
   ]
  },
  {
   "cell_type": "markdown",
   "metadata": {},
   "source": [
    "> **Question 5** Compléter le programme suivant. Un fois les méthodes comparées, trouver le moyen d'améliorer le résultat avec la méthode d'Euler "
   ]
  },
  {
   "cell_type": "code",
   "execution_count": 4,
   "metadata": {
    "scrolled": true
   },
   "outputs": [
    {
     "ename": "SyntaxError",
     "evalue": "invalid syntax (50396823.py, line 15)",
     "output_type": "error",
     "traceback": [
      "\u001b[1;36m  File \u001b[1;32m\"C:\\Users\\roque\\AppData\\Local\\Temp\\ipykernel_11432\\50396823.py\"\u001b[1;36m, line \u001b[1;32m15\u001b[0m\n\u001b[1;33m    dP = ...................................\u001b[0m\n\u001b[1;37m            ^\u001b[0m\n\u001b[1;31mSyntaxError\u001b[0m\u001b[1;31m:\u001b[0m invalid syntax\n"
     ]
    }
   ],
   "source": [
    "N=30000\n",
    "dz=1000\n",
    "Dz=R*T0/(M*g)\n",
    "\n",
    "def f(P):\n",
    "    return -P/Dz\n",
    "\n",
    "Z = np.zeros(N+1)\n",
    "P_1 = np.zeros(N+1)\n",
    "Z[0]=0\n",
    "P_1[0]=P0\n",
    "\n",
    "#Méthode EULER ------------------------------------------------\n",
    "for i in range(1,N+1):\n",
    "    dP = ...................................\n",
    "    # et on le rajoute à la valeur précédente pour avoir la nouvelle\n",
    "    P_1[i] = ...................................\n",
    "    # z s'incrémente aussi d'un pas\n",
    "    Z[i] = ...................................\n",
    "\n",
    "theorique = ...................................\n",
    "plt.plot(................................... , label = 'méthode analytique')\n",
    "plt.plot(...................................'o', label = 'méthode Euler')\n",
    "plt.ylabel('Altitude $z$ (km)')\n",
    "plt.xlabel('Pression $P1$ (V)')\n",
    "plt.ylim(0, N)\n",
    "plt.grid()\n",
    "plt.legend()\n",
    "\n",
    "#Méthode ODEINT-----------------------------------------------\n",
    "# rappel: on a déjà écrit def T_isoT(z):\n",
    "#                             return T0\n",
    "\n",
    "def deriv_isoT(P,z):\n",
    "    return ..................................\n",
    "\n",
    "P_isoT = odeint(...................................)\n",
    "\n",
    "plt.figure(\"Courbes de pression calculées\")\n",
    "plt.plot((...................................) , label = 'méthode analytique')\n",
    "plt.plot((...................................),'o', label=\"Méthode Odeint\")\n",
    "plt.legend()\n",
    "plt.xlabel(\"Pression en Pa\")\n",
    "plt.ylabel(\"Altitude en m\")\n",
    "plt.ylim(0,30000)\n",
    "plt.grid(True)\n",
    "plt.show()"
   ]
  },
  {
   "cell_type": "markdown",
   "metadata": {},
   "source": [
    "# Calcul et comparaison des 3 profils de pression"
   ]
  },
  {
   "cell_type": "markdown",
   "metadata": {},
   "source": [
    "## Préliminaire : interpolation d'une liste de valeurs"
   ]
  },
  {
   "cell_type": "markdown",
   "metadata": {},
   "source": [
    "Avant d'aller plus loin, sachant que nous allons traiter un grand nombre de valeurs quelque soit le profil de températues et que la liste de T_data dans le cas de l'atmosphère standard est limitée par des valeurs fixes, on propose de faire une interpolation simple entre les valeurs afin de disposer d'un nombre quelconque de valeurs et surtour de transformer la matrice de valeurs en fonction. Pour le comprendre, rendez-vous à https://docs.scipy.org/doc/scipy/reference/generated/scipy.interpolate.interp1d.html pour vous familiariser avec la fonction `interpolate.interp1d` de la bibliothèque `scipy`\n",
    "\n",
    "Voici un exemple pour l'illustrer. Représenter les deux courbes : originale et interpolée."
   ]
  },
  {
   "cell_type": "code",
   "execution_count": 32,
   "metadata": {},
   "outputs": [
    {
     "data": {
      "text/plain": [
       "[<matplotlib.lines.Line2D at 0x1eb9be19130>]"
      ]
     },
     "execution_count": 32,
     "metadata": {},
     "output_type": "execute_result"
    },
    {
     "data": {
      "image/png": "[encoded data removed]",
      "text/plain": [
       "<Figure size 640x480 with 1 Axes>"
      ]
     },
     "metadata": {},
     "output_type": "display_data"
    }
   ],
   "source": [
    "x = np.array([0,1000, 2000, 3000])\n",
    "y = np.array([15, 5.5, 5.0, -4.49])\n",
    "plt.plot(x,y,'o')\n",
    "\n",
    "x_new=np.linspace(0,3000,1000)\n",
    "f=interpolate.interp1d(x,y)\n",
    "y_new=f(x_new)\n",
    "plt.plot(x_new,y_new,'-')"
   ]
  },
  {
   "cell_type": "markdown",
   "metadata": {},
   "source": [
    "> **Question 6** Faites l'interpolation des valeurs de la température dans le cas de l'atmosphère standard en créant une nouvelle matrice T_standard qui comprendra les valeurs interpolées de T_data et représenter le profil :"
   ]
  },
  {
   "cell_type": "code",
   "execution_count": 3,
   "metadata": {},
   "outputs": [
    {
     "ename": "SyntaxError",
     "evalue": "invalid syntax (4071284626.py, line 1)",
     "output_type": "error",
     "traceback": [
      "\u001b[1;36m  File \u001b[1;32m\"C:\\Users\\roque\\AppData\\Local\\Temp\\ipykernel_11432\\4071284626.py\"\u001b[1;36m, line \u001b[1;32m1\u001b[0m\n\u001b[1;33m    T_standard = interpolate.interp1d((...................................))\u001b[0m\n\u001b[1;37m                                          ^\u001b[0m\n\u001b[1;31mSyntaxError\u001b[0m\u001b[1;31m:\u001b[0m invalid syntax\n"
     ]
    }
   ],
   "source": [
    "T_standard = interpolate.interp1d((...................................))\n",
    "plt.plot((...................................),z_standard)"
   ]
  },
  {
   "cell_type": "markdown",
   "metadata": {},
   "source": [
    "## Résolution pour les 3 profils"
   ]
  },
  {
   "cell_type": "code",
   "execution_count": 1,
   "metadata": {},
   "outputs": [
    {
     "ename": "SyntaxError",
     "evalue": "invalid syntax (2664050664.py, line 2)",
     "output_type": "error",
     "traceback": [
      "\u001b[1;36m  File \u001b[1;32m\"C:\\Users\\roque\\AppData\\Local\\Temp\\ipykernel_11432\\2664050664.py\"\u001b[1;36m, line \u001b[1;32m2\u001b[0m\n\u001b[1;33m    return (...................................)\u001b[0m\n\u001b[1;37m               ^\u001b[0m\n\u001b[1;31mSyntaxError\u001b[0m\u001b[1;31m:\u001b[0m invalid syntax\n"
     ]
    }
   ],
   "source": [
    "def deriv_isoT(P,z):\n",
    "    return (...................................)\n",
    "\n",
    "def deriv_adiab(P,z):\n",
    "    return (...................................)\n",
    "\n",
    "def deriv_standard(P,z):\n",
    "    return (...................................)\n",
    "\n",
    "\n",
    "P_isoT = odeint((...................................))\n",
    "\n",
    "\n",
    "P_adiab = odeint((...................................))\n",
    "\n",
    "\n",
    "P_standard = odeint((...................................))"
   ]
  },
  {
   "cell_type": "markdown",
   "metadata": {},
   "source": [
    "> **Question 7** Représenter les 3 profils de pression atmosphérique."
   ]
  },
  {
   "cell_type": "code",
   "execution_count": 2,
   "metadata": {},
   "outputs": [
    {
     "ename": "NameError",
     "evalue": "name 'plt' is not defined",
     "output_type": "error",
     "traceback": [
      "\u001b[1;31m---------------------------------------------------------------------------\u001b[0m",
      "\u001b[1;31mNameError\u001b[0m                                 Traceback (most recent call last)",
      "\u001b[1;32m~\\AppData\\Local\\Temp\\ipykernel_11432\\1803943814.py\u001b[0m in \u001b[0;36m<module>\u001b[1;34m\u001b[0m\n\u001b[1;32m----> 1\u001b[1;33m \u001b[0mplt\u001b[0m\u001b[1;33m.\u001b[0m\u001b[0mfigure\u001b[0m\u001b[1;33m(\u001b[0m\u001b[1;34m\"Courbes de pression calculées\"\u001b[0m\u001b[1;33m)\u001b[0m\u001b[1;33m\u001b[0m\u001b[1;33m\u001b[0m\u001b[0m\n\u001b[0m\u001b[0;32m      2\u001b[0m \u001b[0mplt\u001b[0m\u001b[1;33m.\u001b[0m\u001b[0mplot\u001b[0m\u001b[1;33m(\u001b[0m\u001b[0mP_isoT\u001b[0m\u001b[1;33m,\u001b[0m\u001b[0mz_isoT\u001b[0m\u001b[1;33m,\u001b[0m \u001b[0mlabel\u001b[0m\u001b[1;33m=\u001b[0m\u001b[1;34m\"Approche numérique isotherme\"\u001b[0m\u001b[1;33m)\u001b[0m\u001b[1;33m\u001b[0m\u001b[1;33m\u001b[0m\u001b[0m\n\u001b[0;32m      3\u001b[0m \u001b[1;33m\u001b[0m\u001b[0m\n\u001b[0;32m      4\u001b[0m \u001b[0mplt\u001b[0m\u001b[1;33m.\u001b[0m\u001b[0mplot\u001b[0m\u001b[1;33m(\u001b[0m\u001b[0mP_adiab\u001b[0m\u001b[1;33m,\u001b[0m\u001b[0mz_adiab\u001b[0m\u001b[1;33m,\u001b[0m \u001b[0mlabel\u001b[0m\u001b[1;33m=\u001b[0m\u001b[1;34m\"Approche numérique adiabatique\"\u001b[0m\u001b[1;33m)\u001b[0m\u001b[1;33m\u001b[0m\u001b[1;33m\u001b[0m\u001b[0m\n\u001b[0;32m      5\u001b[0m \u001b[1;33m\u001b[0m\u001b[0m\n",
      "\u001b[1;31mNameError\u001b[0m: name 'plt' is not defined"
     ]
    }
   ],
   "source": [
    "plt.figure(\"Courbes de pression calculées\")\n",
    "plt.plot(P_isoT,z_isoT, label=\"Approche numérique isotherme\")\n",
    "\n",
    "plt.plot(P_adiab,z_adiab, label=\"Approche numérique adiabatique\")\n",
    "\n",
    "plt.plot(P_standard,z_standard, label=\"Approche numérique standard\")\n",
    "plt.legend()\n",
    "plt.xlabel(\"Pression en Pa\")\n",
    "plt.ylabel(\"Altitude en m\")\n",
    "plt.ylim(0,30000)\n",
    "plt.grid(True)\n",
    "plt.show()"
   ]
  },
  {
   "cell_type": "code",
   "execution_count": null,
   "metadata": {},
   "outputs": [],
   "source": []
  }
 ],
 "metadata": {
  "kernelspec": {
   "display_name": "Python 3 (ipykernel)",
   "language": "python",
   "name": "python3"
  },
  "language_info": {
   "codemirror_mode": {
    "name": "ipython",
    "version": 3
   },
   "file_extension": ".py",
   "mimetype": "text/x-python",
   "name": "python",
   "nbconvert_exporter": "python",
   "pygments_lexer": "ipython3",
   "version": "3.9.13"
  }
 },
 "nbformat": 4,
 "nbformat_minor": 2
}
