{
 "cells": [
  {
   "cell_type": "markdown",
   "metadata": {},
   "source": [
    "# Etude du filtrage d'un créneau par un filtre passe-bas "
   ]
  },
  {
   "cell_type": "markdown",
   "metadata": {},
   "source": [
    "## Bibliothèques nécessaires"
   ]
  },
  {
   "cell_type": "code",
   "execution_count": null,
   "metadata": {},
   "outputs": [],
   "source": [
    "from cmath import * #pour avoir les complexes\n",
    "import matplotlib.pyplot as plt #pour tracer les graphiques\n",
    "import numpy as np #pour pouvoir manipuler les tableaux"
   ]
  },
  {
   "cell_type": "markdown",
   "metadata": {},
   "source": [
    "### Préliminaires\n",
    "Que font les instructions suivantes ? "
   ]
  },
  {
   "cell_type": "code",
   "execution_count": null,
   "metadata": {},
   "outputs": [],
   "source": [
    "T1=np.zeros(10)\n",
    "print(T1)"
   ]
  },
  {
   "cell_type": "code",
   "execution_count": null,
   "metadata": {},
   "outputs": [],
   "source": [
    "T2=np.linspace(0,2,9)\n",
    "print(T2)\n",
    "T3=2+T2\n",
    "print(T3)"
   ]
  },
  {
   "cell_type": "code",
   "execution_count": null,
   "metadata": {},
   "outputs": [],
   "source": [
    "T4=np.linspace(0,2*pi,9)\n",
    "print(T4)\n",
    "T5=np.cos(T4)\n",
    "print(T5)"
   ]
  },
  {
   "cell_type": "code",
   "execution_count": null,
   "metadata": {},
   "outputs": [],
   "source": [
    "L=[3*k for k in range(0,5)]\n",
    "print(L)"
   ]
  },
  {
   "cell_type": "code",
   "execution_count": null,
   "metadata": {},
   "outputs": [],
   "source": [
    "z=1+1j\n",
    "print('z=',z)\n",
    "mod_z=abs(z)\n",
    "print('|z|=',mod_z)\n",
    "arg_z=phase(z)\n",
    "print('arg(z)=',arg_z)\n",
    "\n",
    "z=3+4j\n",
    "print('z=',z)\n",
    "mod_z=abs(z)\n",
    "print('|z|=',mod_z)\n",
    "arg_z=phase(z)\n",
    "print('arg(z)=',arg_z)"
   ]
  },
  {
   "cell_type": "markdown",
   "metadata": {},
   "source": [
    "## Définitions des fonctions de transfert"
   ]
  },
  {
   "cell_type": "code",
   "execution_count": null,
   "metadata": {},
   "outputs": [],
   "source": [
    "# 1j est le nombre complexe tel que son carré vaut -1\n",
    "def passe_bas1(H0,fc,f):\n",
    "    return H0/(1+1j*f/fc)\n",
    "\n",
    "def passe_haut1(H0,fc,f):\n",
    "    return H0*1j*f/fc/(1+1j*f/fc)\n",
    "\n",
    "def passe_bas2(H0,f0,Q,f):\n",
    "    return H0/(1-(f/fc)**2+1j*f/(f0*Q))\n",
    "\n",
    "def passe_bande2(H0,f0,Q,f):\n",
    "    return H0/(1+1j*Q*(f/f0-f0/f))"
   ]
  },
  {
   "cell_type": "markdown",
   "metadata": {},
   "source": [
    "## Fonction générant les signaux souhaités\n",
    "La fonction $\\texttt{genesignal}$ permet de générer un signal connaissant son spectre en amplitude et en phase, \\ie les fréquences, amplitudes et phases à l'origine des temps des harmoniques.\n",
    "\n",
    "Elle prend quatre arguments en  entrée :\n",
    "\n",
    "$\\texttt{temps}$ : liste des instants de calcul du signal\n",
    "\n",
    "et 3 listes de même longueur pour caractériser chaque harmonique :\n",
    "\n",
    "$\\texttt{frequence}$ : liste qui contient les fréquences des signaux que l'on somme\n",
    "\n",
    "$\\texttt{amplitude}$ : liste qui contient les amplitudes des signaux que l'on somme (dans le même ordre que fréquence)\n",
    "\n",
    "$\\texttt{phase}$ : liste qui contient les phases à l'origine des temps des signaux que l'on somme (dans le même ordre que fréquence)"
   ]
  },
  {
   "cell_type": "code",
   "execution_count": null,
   "metadata": {},
   "outputs": [],
   "source": [
    "def gene_signal(temps,frequence,amplitude,phase):\n",
    "    Nt=len(temps) #nombre d'instants de calcul du signal\n",
    "    s=np.zeros(Nt) #intialisation du signal : tableau de Nt 0\n",
    "    # Somme sur tous les harmoniques voulues :\n",
    "    for i in range(len(frequence)):\n",
    "        \n",
    "    return s"
   ]
  },
  {
   "cell_type": "markdown",
   "metadata": {},
   "source": [
    "## Etude de la réponse du filtre passe-bas étudié au signal créneau\n",
    "On étudie la réponse du filtre RC du 1\\ier\\ ordre de fonction de transfert $\\underline{H}=\\dfrac{1}{1+j\\dfrac{f}{f_c}}$, de fréquence de coupure $f_c\\approx 1500$ Hz, à un signal créneau de fréquence $f=20$ kHz."
   ]
  },
  {
   "cell_type": "markdown",
   "metadata": {},
   "source": [
    "### Définition du signal d'entrée\n",
    "On donne la décomposition en série de Fourier du signal créneau de fréquence f : \n",
    "$$s(t)=\\sum_{n=1}^\\infty \\dfrac{4A}{(2n-1)\\pi}\\cos\\left(2\\pi\\times (2n-1) f t+\\dfrac{\\pi}{2}\\right)$$"
   ]
  },
  {
   "cell_type": "code",
   "execution_count": null,
   "metadata": {},
   "outputs": [],
   "source": [
    "f= #fréquence du signal créneau\n",
    "A= #amplitude du signal créneau\n",
    "n= #nombre d'harmoniques souhaités dans le spectre du créneau, \n",
    "   #à modifier pour voir l'effet sur la qualité du créneau généré"
   ]
  },
  {
   "cell_type": "code",
   "execution_count": null,
   "metadata": {},
   "outputs": [],
   "source": [
    "#définition des harmoniques du signal d'entrée\n",
    "freq=[ for k in range(1,n+1)] #défini les fréquences des harmoniques\n",
    "ampl_e=[ for k in range( )] #défini les amplitudes des harmoniques\n",
    "phi_e=[np.pi/2 for ] #défini les phases à l'origine des temps de chaque harmonique"
   ]
  },
  {
   "cell_type": "code",
   "execution_count": null,
   "metadata": {},
   "outputs": [],
   "source": [
    "# instants de calculs entre 0 et tf\n",
    "tf=10*1/f #pour avoir 10 périodes du signal\n",
    "Nt=10000 #nombre d'instants de calculs\n",
    "t=np.linspace(0,tf,Nt)"
   ]
  },
  {
   "cell_type": "code",
   "execution_count": null,
   "metadata": {},
   "outputs": [],
   "source": [
    "#signal d'entrée créé à partir de la fonction gene_signal et des paramètres renseignés précédemment\n",
    "entree="
   ]
  },
  {
   "cell_type": "code",
   "execution_count": null,
   "metadata": {},
   "outputs": [],
   "source": [
    "# tracé du signal d'entrée\n",
    "plt.plot(t,entree,label=\"entrée\")\n",
    "plt.grid()\n",
    "plt.xlabel('t (s)')\n",
    "plt.ylabel('tension (V)')\n",
    "plt.legen()\n",
    "plt.show()"
   ]
  },
  {
   "cell_type": "markdown",
   "metadata": {},
   "source": [
    "###  Spectre du signal d'entrée"
   ]
  },
  {
   "cell_type": "code",
   "execution_count": null,
   "metadata": {},
   "outputs": [],
   "source": [
    "# Valeurs efficaces des harmoniques du signal d'entrée\n",
    "print(ampl_e/sqrt(2)) #comparer avec les valeurs mesurées sur le spectre observé à l'oscilloscope\n",
    "\n",
    "#Représentation du spectre\n",
    "plt.plot(freq,ampl_e/np.sqrt(2),'o')\n",
    "plt.xlabel('f (Hz)')\n",
    "plt.ylabel('Veff (V)')\n",
    "plt.grid()\n",
    "plt.show()"
   ]
  },
  {
   "cell_type": "markdown",
   "metadata": {},
   "source": [
    "### Générer le signal de sortie"
   ]
  },
  {
   "cell_type": "code",
   "execution_count": null,
   "metadata": {},
   "outputs": [],
   "source": [
    "# initialisation du signal de sortie avec Nt 0 \n",
    "sortie = "
   ]
  },
  {
   "cell_type": "code",
   "execution_count": null,
   "metadata": {},
   "outputs": [],
   "source": [
    "# paramètres du filtre étudié\n",
    "H0= #gain statique\n",
    "fc=  #fréquence de coupure"
   ]
  },
  {
   "cell_type": "code",
   "execution_count": null,
   "metadata": {},
   "outputs": [],
   "source": [
    "#calculs du signal de sortie\n",
    "ampl_s=[] #liste des amplitudes du signal de sortie\n",
    "phi_s=[] #liste des phases à l'origne des temps du signal de sortie\n",
    "for i in range(len(freq)): #parcours des harmoniques\n",
    "    #pour chaque harmonique i de fréquence freq[i]:\n",
    "    #calculer la fonction de transfert :\n",
    "    H=\n",
    "    #en déduire le gain :\n",
    "    G=\n",
    "    #la phase:\n",
    "    phi=\n",
    "    # calcul de l'amplitude de l'harmonique i\n",
    "    ampl_si=\n",
    "    #ajout de l'amplitude ampl_si à la liste des amplitudes :\n",
    "    ampl_s=ampl_s+\n",
    "    # calcul de la phase à l'origine des temps de l'harmonique i\n",
    "    phi_si=\n",
    "    #ajout de la phase phi_si à la liste des phases :\n",
    "    phis=phis+\n",
    "\n",
    "# génération du signal de sortie\n",
    "sortie="
   ]
  },
  {
   "cell_type": "code",
   "execution_count": null,
   "metadata": {},
   "outputs": [],
   "source": [
    "#tracer du signal de sortie\n",
    "\n",
    "# À comparer avec celui observé à l'oscilloscope"
   ]
  },
  {
   "cell_type": "markdown",
   "metadata": {},
   "source": [
    "### Spectre du signal de sortie"
   ]
  },
  {
   "cell_type": "code",
   "execution_count": null,
   "metadata": {},
   "outputs": [],
   "source": [
    "# Valeurs efficaces des harmoniques du signal de sortie\n",
    "\n",
    "# Tracer du spectre du signla de sortie\n",
    "\n",
    "# À comparer avec celles mesurées à l'oscilliscope"
   ]
  },
  {
   "cell_type": "markdown",
   "metadata": {},
   "source": [
    "# Etude du filtrage d'un signal triangulaire avec un filtre passe-bas\n",
    "Reprendre toute l'étude précédente aussi bien expérimentale que de modélisation avec un signal triangulaire en entrée.\n",
    "On donne la décomposition en série de Fourier du signal triangle de fréquence f : \n",
    "$$s(t)=\\sum_{n=1}^\\infty \\dfrac{8A}{((2n-1)\\pi)^2}\\cos\\Big(2\\pi\\times (2n-1) f t\\Big)$$"
   ]
  },
  {
   "cell_type": "code",
   "execution_count": null,
   "metadata": {},
   "outputs": [],
   "source": []
  }
 ],
 "metadata": {
  "kernelspec": {
   "display_name": "Python 3",
   "language": "python",
   "name": "python3"
  },
  "language_info": {
   "codemirror_mode": {
    "name": "ipython",
    "version": 3
   },
   "file_extension": ".py",
   "mimetype": "text/x-python",
   "name": "python",
   "nbconvert_exporter": "python",
   "pygments_lexer": "ipython3",
   "version": "3.7.6"
  }
 },
 "nbformat": 4,
 "nbformat_minor": 4
}
