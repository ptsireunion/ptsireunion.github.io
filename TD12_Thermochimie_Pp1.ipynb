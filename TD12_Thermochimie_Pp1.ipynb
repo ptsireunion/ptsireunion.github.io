{
 "cells": [
  {
   "cell_type": "markdown",
   "metadata": {},
   "source": [
    "![WeTheGeeksV3.jpg](https://raw.githubusercontent.com/ptsireunion/CPGE-PT-Reunion/main/WeTheGeeksV3.jpg)\n",
    " \n",
    "<div class=\"alert alert-block alert-info\">\n",
    "    <b> PYTHON – Capacité Numérique CN 7 \n",
    "</div>\n",
    "\n",
    "# - Evolution de la température lors d’une transformation adiabatique -\n",
    ">Physique Chimie `CPGE PT` lien vers le blog <a> https://cpge-reunion-ptsi.blogspot.com/p/python.html </a>\n",
    "    >> Sujet inspiré par diverses lectures sur le net merci à leurs contributeurs.trices"
   ]
  },
  {
   "cell_type": "markdown",
   "metadata": {},
   "source": [
    "Dans ce notebook, on cherchera à simuler l’évolution temporelle de la température pour un système siège d’une transformation adiabatique modélisée par une seule réaction chimique dont les caractéristiques `cinétiques` et `thermodynamiques` sont connues.\n",
    "\n",
    "On propose ici de l'illustrer par la décomposition spontanée de l'eau oxygénée, en solution aqueuse :\n",
    "\n",
    "$$H_2O_{2(aq)}=H_2O_{(l)}+\\frac{1}{2} O_{2(g)}$$ \n",
    "\n",
    "`Cinétique`: Cette équation possède une cinétique d'ordre 1 par rapport au peroxyde d'hydrogène.\n",
    "\n",
    "`Thermodynamique`: L'enthapie standard de réaction est $\\Delta_rH^0=-96,6.10^3 KJ/mol$\n",
    "\n",
    "`Conditions initiales` : au temps t=0, on place $n_0$ moles de peroxyde d'hydrogène $H_2O_2$ dans une masse $m$ d'eau, de capacité calorifique $c_e$ et de volume $V$. Le tout est placé dans un calorimètre à la température initiale de $T_0=298K$.\n",
    "\n",
    "`Hypothèses simplificatrices` : le calorimètre (de capacité thermique supposée négligeable), le dioxygène créé et l'air contenu dans le calorimètre ne sont pas pris en compte dans le bilan thermique.\n",
    "\n",
    "`Autres données` On utilisera par la suite les données et modules Python suivants qu'on pourra copier-coller :"
   ]
  },
  {
   "cell_type": "code",
   "execution_count": 5,
   "metadata": {},
   "outputs": [],
   "source": [
    "#Cellule à exécuter\n",
    "\n",
    "# Modules Python utiles\n",
    "\n",
    "import numpy as np\n",
    "import matplotlib.pyplot as plt\n",
    "from math import exp\n",
    "\n",
    "# Données, toutes en unités du système international\n",
    "\n",
    "R=8.314 # Constante des gaz parfaits\n",
    "drH0=-94.6e3 # Enthalpie standard de la réaction\n",
    "Ea=72.4e3 # Energie d'activation\n",
    "A=1.3e11/60 # Facteur cinétique pré-exponentiel\n",
    "ce=4.18e3 # Capacité thermique massique de l'eau liquide\n",
    "m=1 # Masse d'eau\n",
    "T0=298 # Température initiale\n",
    "n0=0.3\n",
    "V=1e-3 # Volume de solution (en m3)\n",
    "c0=n0/V # Concentration initiale de peroxyde d'hydrogène (en mol/m3)oncentration initiale de peroxyde d'hydrogène (en mol/m3)"
   ]
  },
  {
   "cell_type": "markdown",
   "metadata": {},
   "source": [
    "## Etude cinétique\n",
    "\n",
    "\n",
    "Connaître l'évolution de la température au cours du temps nécessite tout d'abord d'étudier la cinétique de la réaction.\n",
    "\n",
    "> **Question Q1 :**\n",
    ">\n",
    "> Ecrire la loi de vitesse associée à la réaction et en déduire que l'équation différentielle $E_{cin}$ vérifiée par l'avancement molaire $\\xi$ de la réaction est :\n",
    "\n",
    "\n",
    "\n",
    "$$\n",
    "(E_{cin}) : \\frac{d\\xi}{dt}+k \\xi=k n_0 \n",
    "$$\n",
    "\n",
    "\n",
    "<div class=\"alert alert-block alert-danger\">\n",
    "    <b> Attention, AVANT de regarder la solution ci-dessous, entraînez-vous ! Si par hasard, vous avez exécuté la page entière ou la cellule-solution et que la celle-ci apparaît, faites la disparaître en double-cliquant sa cellule et seul le code non compilé devrait prendre la place de l'image\n",
    "</div>\n"
   ]
  },
  {
   "cell_type": "markdown",
   "metadata": {},
   "source": [
    "![Cinetique.jpg](https://raw.githubusercontent.com/ptsireunion/CPGE-PT-Reunion/main/Cinetique.JPG)"
   ]
  },
  {
   "cell_type": "markdown",
   "metadata": {},
   "source": [
    ">**Remarque :** \n",
    ">\n",
    "> La résolution de l'équation (Ecin) obtenue à la question précédente devient délicate. En effet, Le valeur de  $\\Delta_rH^0$  est négative, ce qui traduit le caractère exothermique de la réaction. Celle-ci s'effectuant dans une enceinte adiabatique, l'impossibilité d'un transfert thermique vers l'extérieur va se traduire par une augmentation de température du milieu réactionnel au cours du temps.\n",
    "> Or, La constante de vitesse  𝑘(T) dépend de la température d'après la loi d'Arrhénius. Comme cette température va évoluer au cours du temps, l'équation différentielle précédente est une équation différentielle d'ordre 1 à coefficient non constant et non explicite car on ne connaît pas l'évolution de 𝑇(𝑡) et donc de  𝑘(T(𝑡)) a priori.\n",
    ">Il faut donc trouver de nouvelles équations avant de discrétiser l'équation différentielle pour sa résolution numérique."
   ]
  },
  {
   "cell_type": "markdown",
   "metadata": {},
   "source": [
    "## Etude thermodynamique \n",
    "\n",
    "> **Question Q2 :**\n",
    "> D'après ce qu'on a vu précédemment, nous disposons de la relation ($E_{cin}$) qui relie $\\xi$ et $k$. De plus, les paramètres qui évoluent au cours du temps et qui décrivent le problème sont :\n",
    ">>* la température $T(t)$\n",
    ">>* la constante de vitesse $k(T(t))$\n",
    ">>* l'avancement de la réaction $\\xi(t)$\n",
    "\n",
    "> Il manque deux relations thermodynamiques que vous devez trouver :\n",
    "      >>* la relation qui relie $k$ et $T$ (Loi d'Arrhénius)\n",
    "      >>* la relation qui relie $T$ et $\\xi$ (Bilan enthalpique entre l'instant initial et l'instant $t$ quelconque)\n",
    "<div class=\"alert alert-block alert-danger\">\n",
    "    <b> Attention, AVANT de regarder la solution ci-dessous, entraînez-vous ! Si par hasard, vous avez exécuté la page entière ou la cellule-solution et que la celle-ci apparaît, faites la disparaître en double-cliquant sa cellule et seul le code non compilé devrait prendre la place de l'image\n",
    "</div>"
   ]
  },
  {
   "cell_type": "markdown",
   "metadata": {},
   "source": [
    "![Thermodynamique.jpg](https://raw.githubusercontent.com/ptsireunion/CPGE-PT-Reunion/main/Equations%20thermodynamiques.JPG)"
   ]
  },
  {
   "cell_type": "markdown",
   "metadata": {},
   "source": [
    "## Dynamique du système\n",
    "\n",
    "Nous disposons désormais de toutes les relations pour étudier la dynamique du système. De proche en proche, nous allons calculer la température à tout instant, en suivant le schéma suivant :\n",
    "\n",
    "<img src=\"https://raw.githubusercontent.com/ptsireunion/CPGE-PT-Reunion/main/Dynamique.png\" width=800></img>"
   ]
  },
  {
   "cell_type": "markdown",
   "metadata": {},
   "source": [
    ">**Question Q3 :** \n",
    ">\n",
    "> En combinant les équations précédentes, exprimez $\\frac{d\\xi}{dt}$ en fonction d'une seule variable, le temps $t$    \n",
    "\n",
    "<div class=\"alert alert-block alert-danger\">\n",
    "    <b> Attention, AVANT de regarder la solution ci-dessous, entraînez-vous ! Si par hasard, vous avez exécuté la page entière ou la cellule-solution et que la celle-ci apparaît, faites la disparaître en double-cliquant sa cellule et seul le code non compilé devrait prendre la place de l'image\n",
    "</div>"
   ]
  },
  {
   "cell_type": "markdown",
   "metadata": {},
   "source": [
    "![Couplage.jpg](https://raw.githubusercontent.com/ptsireunion/CPGE-PT-Reunion/main/Equations%20couplees.JPG)"
   ]
  },
  {
   "cell_type": "markdown",
   "metadata": {},
   "source": [
    ">**Question Q4 :** \n",
    ">\n",
    ">Compléter la fonction ci-dessous qui retourne la température $T$ à partir de la valeur de l'avancement passé en argument.\n"
   ]
  },
  {
   "cell_type": "code",
   "execution_count": 6,
   "metadata": {},
   "outputs": [
    {
     "ename": "SyntaxError",
     "evalue": "unexpected EOF while parsing (<ipython-input-6-a9ef0cba5173>, line 2)",
     "output_type": "error",
     "traceback": [
      "\u001b[1;36m  File \u001b[1;32m\"<ipython-input-6-a9ef0cba5173>\"\u001b[1;36m, line \u001b[1;32m2\u001b[0m\n\u001b[1;33m    #### A COMPLETER\u001b[0m\n\u001b[1;37m                    ^\u001b[0m\n\u001b[1;31mSyntaxError\u001b[0m\u001b[1;31m:\u001b[0m unexpected EOF while parsing\n"
     ]
    }
   ],
   "source": [
    "def T(xi):\n",
    "    #### A COMPLETER"
   ]
  },
  {
   "cell_type": "markdown",
   "metadata": {},
   "source": [
    ">**Question Q5 :**\n",
    ">\n",
    "> Complétez la fonction suivante qui retourne la valeur de $k$ en fonction de la température passée en argument."
   ]
  },
  {
   "cell_type": "code",
   "execution_count": null,
   "metadata": {},
   "outputs": [],
   "source": [
    "def k(T):\n",
    "    ### A COMPLETER"
   ]
  },
  {
   "cell_type": "markdown",
   "metadata": {},
   "source": [
    ">**Question Q5 :**\n",
    ">\n",
    "> En utilisant la méthode d'Euler, exprimez $\\xi_{n+1}$ en fonction de $\\xi_{n}$, du pas temporel $\\Delta t$, $k(T(\\xi_{n}))$, et $n_{0}$"
   ]
  },
  {
   "cell_type": "markdown",
   "metadata": {},
   "source": [
    ">**Question Q6 :** \n",
    ">\n",
    "> Dans la question précédente, on voit apparaître une fonction composée. Il est judicieux de la coder comme une fonction f à deux variables: Complétez la fonction `f(T,xi)` suivante définie par :\n",
    "> $$ \\frac{d\\xi}{dt}=f(T,\\xi)$$\n",
    "\n"
   ]
  },
  {
   "cell_type": "code",
   "execution_count": null,
   "metadata": {},
   "outputs": [],
   "source": [
    "def f(T,xi):\n",
    "    ''' telle que dxi/dt=f(T,xi)'''\n",
    "    ### A COMPLETER\n"
   ]
  },
  {
   "cell_type": "markdown",
   "metadata": {},
   "source": [
    ">**Question Q7 :** \n",
    ">\n",
    "> La dernière étape consiste à mettre en oeuvre la méthode décrite sur le schéma qui décrit la \"dynamique du système\" pour déterminer l'évolution de la température à tout instant. On complètera le code proposé ci-dessous. En déduire le tracé de la température au cours du temps. "
   ]
  },
  {
   "cell_type": "code",
   "execution_count": null,
   "metadata": {},
   "outputs": [],
   "source": [
    "# On stocke les valeurs de t, T et xi à chaque instant dans 3 listes : l_t, l_T et l_xi\n",
    "# Ces listes sont initialisées ci-dessous.\n",
    "\n",
    "l_t=[0] # liste des temps en s\n",
    "l_T=[T0] # liste des T en K\n",
    "l_xi=[0] # liste des xi en mol\n",
    "\n",
    "# Paramètres de la simulation\n",
    "\n",
    "dt=1 # pas de calcul temporel\n",
    "tf=10000 # instant final de calcul\n",
    "\n",
    "for i in range(int(tf/dt)):\n",
    "    ### A COMPLETER\n",
    "    ###\n",
    "    ###\n",
    "    ###\n",
    "  \n",
    "\n",
    "\n",
    "\n",
    "\n",
    "\n",
    "plt.figure()\n",
    "plt.plot(np.array(l_t)/60,l_T)\n",
    "plt.xlabel(\"t en minutes\")\n",
    "plt.ylabel(\"T en °C\")\n",
    "plt.grid()\n",
    "plt.show()    \n",
    "    "
   ]
  },
  {
   "cell_type": "markdown",
   "metadata": {},
   "source": [
    ">**Question Q8 :** \n",
    "> Pour information, vous devez, à l'aide de votre code, retrouver la courbe \"simu\" du tracé ci-dessous. On a ajouté également le résultat qui serait obtenu avec en résolution analytique si on considérait que la constante de vitesse $k$ était une constante indépendante de la température. Démontrer l'expression de la fonction associée à cette courbe.\n",
    "\n",
    "\n",
    "<img src=\"https://raw.githubusercontent.com/ptsireunion/CPGE-PT-Reunion/main/Courbes.png\" width=400></img>"
   ]
  },
  {
   "cell_type": "code",
   "execution_count": null,
   "metadata": {},
   "outputs": [],
   "source": []
  }
 ],
 "metadata": {
  "kernelspec": {
   "display_name": "Python 3",
   "language": "python",
   "name": "python3"
  },
  "language_info": {
   "codemirror_mode": {
    "name": "ipython",
    "version": 3
   },
   "file_extension": ".py",
   "mimetype": "text/x-python",
   "name": "python",
   "nbconvert_exporter": "python",
   "pygments_lexer": "ipython3",
   "version": "3.7.6"
  },
  "toc": {
   "base_numbering": 1,
   "nav_menu": {},
   "number_sections": false,
   "sideBar": true,
   "skip_h1_title": false,
   "title_cell": "Table of Contents",
   "title_sidebar": "Contents",
   "toc_cell": false,
   "toc_position": {},
   "toc_section_display": true,
   "toc_window_display": false
  }
 },
 "nbformat": 4,
 "nbformat_minor": 2
}
