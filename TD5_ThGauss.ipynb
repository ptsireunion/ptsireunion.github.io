{
 "cells": [
  {
   "cell_type": "markdown",
   "metadata": {},
   "source": [
    "![WeTheGeeksV3.jpg](https://raw.githubusercontent.com/ptsireunion/CPGE-PT-Reunion/main/WeTheGeeksV3.jpg)\n",
    " \n",
    "<div class=\"alert alert-block alert-info\">\n",
    "    <b> PYTHON – Travaux Dirigés N°5\n",
    "</div>\n",
    "\n",
    "# - Théorème de Gauss -\n",
    ">Physique Chimie `CPGE PT` lien vers le blog <a> https://cpge-reunion-ptsi.blogspot.com/p/info-pyhton.html </a>\n",
    "    >> Sujet inspiré par diverses lectures sur le net. Merci à leurs contributeurs.trices"
   ]
  },
  {
   "cell_type": "markdown",
   "metadata": {},
   "source": [
    "Dans ce notebook, on s'intéresse au `Théorème de Gauss en électrostatique créé par des sphères concentriques chargées en surface. On représentera le champ créé dans diverses configurations.`"
   ]
  },
  {
   "cell_type": "markdown",
   "metadata": {},
   "source": [
    "## Préliminaires\n",
    "\n",
    "**Question 1 :**\n",
    "> Rappeler l'énoncé du Théorème de Gauss\n",
    "\n",
    "**Question 2 :**\n",
    "> Une sphère $S$ de centre $O$ et de rayon $R$ porte une charge totale $Q$ uniformément répartie sur sa surface. On repère la position d’un point $M$ de l’espace par ses coordonnées sphériques $(r,θ,φ)$ et on note  $\\vec{E}$ le champ électrostatique créé par la sphère en ce point. Justifier le fait que, dans la base sphérique, le champ électrostatique est de la forme  $\\vec{E}=E(r).\\vec{u_r}$\n",
    "\n",
    "**Question 3 :**\n",
    "> Déterminer l’expression de $E(r)$, en distinguant les cas $r<R$ et $r>R$\n",
    "\n",
    "**Question 4 :**\n",
    "> Représenter $E(r)$"
   ]
  },
  {
   "cell_type": "markdown",
   "metadata": {},
   "source": [
    "## Reprèsentation du champ électrostatique créé par une sphère\n",
    "\n",
    "Travaillons pour un distance radiale $r$ variant de $0,01$ à $0,5$ mètres. Le pas de calcul sera de $dr=1mm$. Le rayon de la sphère est $R=0,1m$ et la charge $Q=1\\mu C$  :"
   ]
  },
  {
   "cell_type": "markdown",
   "metadata": {},
   "source": [
    "**Question 5**\n",
    ">\n",
    "> Ecrire une fonction ```champ_electrique_sphere```, prenant $Q$, $R$ et $r$ comme arguments et permettant de calculer le champ électrique pour tout valeur de $r$"
   ]
  },
  {
   "cell_type": "code",
   "execution_count": 1,
   "metadata": {
    "jupyter": {
     "source_hidden": true
    },
    "tags": []
   },
   "outputs": [],
   "source": [
    "# Cellule à exécuter\n",
    "\n",
    "import numpy as np\n",
    "import matplotlib.pyplot as plt\n",
    "\n",
    "epsilon_0 = 8.854187817e-12  # Permittivité du vide en F/m\n",
    "\n",
    "def champ_electrique_sphere(Q, R, r):\n",
    "\n",
    "    if r > R:\n",
    ".....................\n",
    "    else:\n",
    ".....................\n",
    "...................."
   ]
  },
  {
   "cell_type": "markdown",
   "metadata": {},
   "source": [
    "**Question 6**\n",
    ">\n",
    "> Ecrire la procédure pour représenter $E(r)$"
   ]
  },
  {
   "cell_type": "code",
   "execution_count": 5,
   "metadata": {},
   "outputs": [
    {
     "ename": "SyntaxError",
     "evalue": "cannot assign to operator (3889121950.py, line 7)",
     "output_type": "error",
     "traceback": [
      "\u001b[1;36m  File \u001b[1;32m\"C:\\Users\\roque\\AppData\\Local\\Temp\\ipykernel_9356\\3889121950.py\"\u001b[1;36m, line \u001b[1;32m7\u001b[0m\n\u001b[1;33m    +E_values = [champ_electrique_sphere(Q, R, r) for r in r_values]\u001b[0m\n\u001b[1;37m    ^\u001b[0m\n\u001b[1;31mSyntaxError\u001b[0m\u001b[1;31m:\u001b[0m cannot assign to operator\n"
     ]
    }
   ],
   "source": [
    "# Paramètres\n",
    "Q = 1e-6  # Charge totale en Coulombs\n",
    "R = 0.1   # Rayon de la sphère en mètres\n",
    "r_values = ........................................ # Valeurs de r pour le tracé\n",
    "\n",
    "# Calcul du champ électrique pour chaque valeur de r\n",
    "E_values = .....................................................\n",
    "\n",
    "# Tracé du champ électrique\n",
    "plt.figure(figsize=(10, 6))\n",
    "plt.plot(r_values, E_values, label='Champ électrique $E(r)$', color='b')\n",
    "plt.axvline(x=R, color='r', linestyle='--', label='Rayon de la sphère $R$')\n",
    "plt.xlabel('Distance radiale $r$ (m)')\n",
    "plt.ylabel('Champ électrique $E(r)$ (N/C)')\n",
    "plt.title('Champ Électrique en Fonction de la Distance Radiale')\n",
    "plt.legend()\n",
    "plt.grid(True)\n",
    "plt.show()\n"
   ]
  },
  {
   "cell_type": "markdown",
   "metadata": {},
   "source": [
    "## Reprèsentation du champ électrostatique créé par plusieurs sphères\n",
    "\n",
    "**Question 7**\n",
    ">\n",
    "> En invoquant le théorème de superposition, utiliser la fonction précédente pour représenter le champ créé par la sphère chargée précédente à laquelle on rajoute une sphère de rayon double tel que l'ensemble soit électriquement neutre."
   ]
  },
  {
   "cell_type": "code",
   "execution_count": 6,
   "metadata": {},
   "outputs": [
    {
     "ename": "TypeError",
     "evalue": "bad operand type for unary +: 'Figure'",
     "output_type": "error",
     "traceback": [
      "\u001b[1;31m---------------------------------------------------------------------------\u001b[0m",
      "\u001b[1;31mTypeError\u001b[0m                                 Traceback (most recent call last)",
      "\u001b[1;32m~\\AppData\\Local\\Temp\\ipykernel_9356\\688974683.py\u001b[0m in \u001b[0;36m<module>\u001b[1;34m\u001b[0m\n\u001b[0;32m      3\u001b[0m \u001b[1;33m\u001b[0m\u001b[0m\n\u001b[0;32m      4\u001b[0m \u001b[1;31m# Tracé du champ électrique\u001b[0m\u001b[1;33m\u001b[0m\u001b[1;33m\u001b[0m\u001b[0m\n\u001b[1;32m----> 5\u001b[1;33m \u001b[1;33m+\u001b[0m\u001b[0mplt\u001b[0m\u001b[1;33m.\u001b[0m\u001b[0mfigure\u001b[0m\u001b[1;33m(\u001b[0m\u001b[0mfigsize\u001b[0m\u001b[1;33m=\u001b[0m\u001b[1;33m(\u001b[0m\u001b[1;36m10\u001b[0m\u001b[1;33m,\u001b[0m \u001b[1;36m6\u001b[0m\u001b[1;33m)\u001b[0m\u001b[1;33m)\u001b[0m\u001b[1;33m\u001b[0m\u001b[1;33m\u001b[0m\u001b[0m\n\u001b[0m\u001b[0;32m      6\u001b[0m \u001b[0mplt\u001b[0m\u001b[1;33m.\u001b[0m\u001b[0mplot\u001b[0m\u001b[1;33m(\u001b[0m\u001b[0mr_values\u001b[0m\u001b[1;33m,\u001b[0m \u001b[0mE_values\u001b[0m\u001b[1;33m,\u001b[0m \u001b[0mlabel\u001b[0m\u001b[1;33m=\u001b[0m\u001b[1;34m'Champ électrique $E(r)$'\u001b[0m\u001b[1;33m,\u001b[0m \u001b[0mcolor\u001b[0m\u001b[1;33m=\u001b[0m\u001b[1;34m'b'\u001b[0m\u001b[1;33m)\u001b[0m\u001b[1;33m\u001b[0m\u001b[1;33m\u001b[0m\u001b[0m\n\u001b[0;32m      7\u001b[0m \u001b[0mplt\u001b[0m\u001b[1;33m.\u001b[0m\u001b[0maxvline\u001b[0m\u001b[1;33m(\u001b[0m\u001b[0mx\u001b[0m\u001b[1;33m=\u001b[0m\u001b[0mR\u001b[0m\u001b[1;33m,\u001b[0m \u001b[0mcolor\u001b[0m\u001b[1;33m=\u001b[0m\u001b[1;34m'r'\u001b[0m\u001b[1;33m,\u001b[0m \u001b[0mlinestyle\u001b[0m\u001b[1;33m=\u001b[0m\u001b[1;34m'--'\u001b[0m\u001b[1;33m,\u001b[0m \u001b[0mlabel\u001b[0m\u001b[1;33m=\u001b[0m\u001b[1;34m'Rayon de la sphère $R$'\u001b[0m\u001b[1;33m)\u001b[0m\u001b[1;33m\u001b[0m\u001b[1;33m\u001b[0m\u001b[0m\n",
      "\u001b[1;31mTypeError\u001b[0m: bad operand type for unary +: 'Figure'"
     ]
    },
    {
     "data": {
      "text/plain": [
       "<Figure size 1000x600 with 0 Axes>"
      ]
     },
     "metadata": {},
     "output_type": "display_data"
    }
   ],
   "source": [
    "# Calcul du champ électrique pour chaque valeur de r\n",
    "E_values = ............................................................\n",
    "\n",
    "# Tracé du champ électrique\n",
    "plt.figure(figsize=(10, 6))\n",
    "plt.plot(r_values, E_values, label='Champ électrique $E(r)$', color='b')\n",
    "plt.axvline(x=R, color='r', linestyle='--', label='Rayon de la sphère $R$')\n",
    "plt.xlabel('Distance radiale $r$ (m)')\n",
    "plt.ylabel('Champ électrique $E(r)$ (N/C)')\n",
    "plt.title('Champ Électrique en Fonction de la Distance Radiale')\n",
    "plt.legend()\n",
    "plt.grid(True)\n",
    "plt.show()"
   ]
  },
  {
   "cell_type": "markdown",
   "metadata": {},
   "source": [
    "**Question 8**\n",
    ">\n",
    "> Rajoutez deux sphères de rayon $3R$ et $4R$ chargées de telle sorte que le champ reste nul pour $2R<r<3R$ et pour $r>4R$ et que son profil suive celui vu à la question $6$."
   ]
  },
  {
   "cell_type": "code",
   "execution_count": 7,
   "metadata": {},
   "outputs": [
    {
     "ename": "TypeError",
     "evalue": "bad operand type for unary +: 'Figure'",
     "output_type": "error",
     "traceback": [
      "\u001b[1;31m---------------------------------------------------------------------------\u001b[0m",
      "\u001b[1;31mTypeError\u001b[0m                                 Traceback (most recent call last)",
      "\u001b[1;32m~\\AppData\\Local\\Temp\\ipykernel_9356\\3514893492.py\u001b[0m in \u001b[0;36m<module>\u001b[1;34m\u001b[0m\n\u001b[0;32m      3\u001b[0m \u001b[1;33m\u001b[0m\u001b[0m\n\u001b[0;32m      4\u001b[0m \u001b[1;31m# Tracé du champ électrique\u001b[0m\u001b[1;33m\u001b[0m\u001b[1;33m\u001b[0m\u001b[0m\n\u001b[1;32m----> 5\u001b[1;33m \u001b[1;33m+\u001b[0m\u001b[0mplt\u001b[0m\u001b[1;33m.\u001b[0m\u001b[0mfigure\u001b[0m\u001b[1;33m(\u001b[0m\u001b[0mfigsize\u001b[0m\u001b[1;33m=\u001b[0m\u001b[1;33m(\u001b[0m\u001b[1;36m10\u001b[0m\u001b[1;33m,\u001b[0m \u001b[1;36m6\u001b[0m\u001b[1;33m)\u001b[0m\u001b[1;33m)\u001b[0m\u001b[1;33m\u001b[0m\u001b[1;33m\u001b[0m\u001b[0m\n\u001b[0m\u001b[0;32m      6\u001b[0m \u001b[0mplt\u001b[0m\u001b[1;33m.\u001b[0m\u001b[0mplot\u001b[0m\u001b[1;33m(\u001b[0m\u001b[0mr_values\u001b[0m\u001b[1;33m,\u001b[0m \u001b[0mE_values\u001b[0m\u001b[1;33m,\u001b[0m \u001b[0mlabel\u001b[0m\u001b[1;33m=\u001b[0m\u001b[1;34m'Champ électrique $E(r)$'\u001b[0m\u001b[1;33m,\u001b[0m \u001b[0mcolor\u001b[0m\u001b[1;33m=\u001b[0m\u001b[1;34m'b'\u001b[0m\u001b[1;33m)\u001b[0m\u001b[1;33m\u001b[0m\u001b[1;33m\u001b[0m\u001b[0m\n\u001b[0;32m      7\u001b[0m \u001b[0mplt\u001b[0m\u001b[1;33m.\u001b[0m\u001b[0maxvline\u001b[0m\u001b[1;33m(\u001b[0m\u001b[0mx\u001b[0m\u001b[1;33m=\u001b[0m\u001b[0mR\u001b[0m\u001b[1;33m,\u001b[0m \u001b[0mcolor\u001b[0m\u001b[1;33m=\u001b[0m\u001b[1;34m'r'\u001b[0m\u001b[1;33m,\u001b[0m \u001b[0mlinestyle\u001b[0m\u001b[1;33m=\u001b[0m\u001b[1;34m'--'\u001b[0m\u001b[1;33m,\u001b[0m \u001b[0mlabel\u001b[0m\u001b[1;33m=\u001b[0m\u001b[1;34m'Rayon de la sphère $R$'\u001b[0m\u001b[1;33m)\u001b[0m\u001b[1;33m\u001b[0m\u001b[1;33m\u001b[0m\u001b[0m\n",
      "\u001b[1;31mTypeError\u001b[0m: bad operand type for unary +: 'Figure'"
     ]
    },
    {
     "data": {
      "text/plain": [
       "<Figure size 1000x600 with 0 Axes>"
      ]
     },
     "metadata": {},
     "output_type": "display_data"
    }
   ],
   "source": [
    "# Calcul du champ électrique pour chaque valeur de r\n",
    "E_values = ........................................................\n",
    "\n",
    "# Tracé du champ électrique\n",
    "plt.figure(figsize=(10, 6))\n",
    "plt.plot(r_values, E_values, label='Champ électrique $E(r)$', color='b')\n",
    "plt.axvline(x=R, color='r', linestyle='--', label='Rayon de la sphère $R$')\n",
    "plt.xlabel('Distance radiale $r$ (m)')\n",
    "plt.ylabel('Champ électrique $E(r)$ (N/C)')\n",
    "plt.title('Champ Électrique en Fonction de la Distance Radiale')\n",
    "plt.legend()\n",
    "plt.grid(True)\n",
    "plt.show()"
   ]
  },
  {
   "cell_type": "code",
   "execution_count": null,
   "metadata": {},
   "outputs": [],
   "source": []
  }
 ],
 "metadata": {
  "kernelspec": {
   "display_name": "Python 3 (ipykernel)",
   "language": "python",
   "name": "python3"
  },
  "language_info": {
   "codemirror_mode": {
    "name": "ipython",
    "version": 3
   },
   "file_extension": ".py",
   "mimetype": "text/x-python",
   "name": "python",
   "nbconvert_exporter": "python",
   "pygments_lexer": "ipython3",
   "version": "3.9.13"
  }
 },
 "nbformat": 4,
 "nbformat_minor": 2
}
