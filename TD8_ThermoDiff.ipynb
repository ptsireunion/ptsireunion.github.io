{
 "cells": [
  {
   "cell_type": "markdown",
   "metadata": {},
   "source": [
    "![WeTheGeeksV3.jpg](https://raw.githubusercontent.com/ptsireunion/CPGE-PT-Reunion/main/WeTheGeeksV3.jpg)\n",
    " \n",
    "<div class=\"alert alert-block alert-info\">\n",
    "    <b> PYTHON – Travaux Dirigés N°8\n",
    "</div>\n",
    "\n",
    "# Thermodynamique - Calorimétrie\n",
    ">Physique Chimie `CPGE PT` lien vers le blog <a> https://cpge-reunion-ptsi.blogspot.com/p/python_6.html </a>\n",
    "    >> Sujet inspiré par diverses lectures sur le net. Merci à leurs contributeurs.trices"
   ]
  },
  {
   "cell_type": "markdown",
   "metadata": {},
   "source": [
    "Dans ce notebook, on utilise le premier principe de la Thermodynamique pour, en première approximation de résultats expérimentaux, en `faire une régression linéaire avec les incertitudes associées`. Cela pourrait être une méthode de présentation de vos résultats en TIPE."
   ]
  },
  {
   "cell_type": "code",
   "execution_count": 9,
   "metadata": {},
   "outputs": [],
   "source": [
    "# commande permettant d'insérer les figures matplotlib dans les notebooks\n",
    "#%matplotlib widget\n",
    "\n",
    "# import des librairies \n",
    "import numpy as np\n",
    "import matplotlib.pyplot as plt"
   ]
  },
  {
   "cell_type": "markdown",
   "metadata": {},
   "source": [
    "# Evolution théorique de la température"
   ]
  },
  {
   "cell_type": "markdown",
   "metadata": {},
   "source": [
    "Un calorimètre est constitué d’une enceinte dans laquelle sont placés des accessoires comme un agitateur et une résistance électrique $R$ reliée à un circuit extérieur, permettant d’y faire circuler un courant électrique. On désigne par $c_p$ la capacité thermique massique totale de l'eau contenue dans l’enceinte et des accessoires. L’agitateur permet d’homogénéiser la température (en $°C$).  $U$ est la tension aux bornes de la résistance $R$ qui permet le chauffage par effet Joule, et $m$ est la masse d'eau et des accessoires. Avant d'appliquer la tension aux bornes de $R$, La température initiale mesurée dans le calorimètre est $T_0$. On applique alors la tension et au bout d'un temps $t$, la température est notée $T(t)$\n",
    "\n",
    "![Calorimetre.JPG](https://raw.githubusercontent.com/ptsireunion/CPGE-PT-Reunion/main/Calorimetre.JPG)\n",
    "\n",
    "\n",
    "> **Question 1** :\n",
    "> En supposant que le chauffage de l'eau est fourni par une puissance constante, montrez que le premier principe appliqué au système fermé dans l'enceinte calorifugée donne : \n",
    "$$T(t)=T_0+\\dfrac{U^2}{mc_p R}t$$"
   ]
  },
  {
   "cell_type": "markdown",
   "metadata": {},
   "source": [
    "# Mesures"
   ]
  },
  {
   "cell_type": "markdown",
   "metadata": {},
   "source": [
    "Voici les mesures. Pour une mesure de `X`, on note `u_X` ses incertitudes de mesure"
   ]
  },
  {
   "cell_type": "code",
   "execution_count": 58,
   "metadata": {},
   "outputs": [],
   "source": [
    "## Données expérimentales étudiants\n",
    "\n",
    "# Instants de mesure\n",
    "t=np.array([0, 60, 120, 180, 240, 300, 360, 420, 480, 540, 600, 660])\n",
    "u_t=np.array(len(t)*[1])\n",
    "\n",
    "# Température mesurée\n",
    "temp = np.array([20.8, 21.4, 23.1, 25.6, 28.7, 32.2, 36.1, 40.3, 44.2, 48.7, 52.7, 55.2])\n",
    "u_temp=np.array(len(temp)*[1])"
   ]
  },
  {
   "cell_type": "markdown",
   "metadata": {},
   "source": [
    "> **Question 2** :\n",
    "> En lisant le code ci-dessus, trouvez quelles sont les incertitudes attribuées aux mesures de temps et de température.\n",
    "> Terminez le code ci-dessous qui donne la courbe la température en fonction du temps avec les incertitudes de mesures grâce aux barres d'erreur. Vous vous rendrez à https://www.python-simple.com/python-matplotlib/errorBars.php pour vous inspirer de la fonction `errorbar`"
   ]
  },
  {
   "cell_type": "code",
   "execution_count": 59,
   "metadata": {},
   "outputs": [
    {
     "data": {
      "image/png": "[encoded data removed]",
      "text/plain": [
       "<Figure size 640x480 with 1 Axes>"
      ]
     },
     "metadata": {},
     "output_type": "display_data"
    }
   ],
   "source": [
    "# Tracé des nuages de points et de leurs barres d'incertitude\n",
    "plt.figure()\n",
    "plt.errorbar(..........., ..........., ..........., ............, fmt='.',ecolor='r',label=\"Données expérimentales\")\n",
    "plt.xlabel(\"t en s\")\n",
    "plt.ylabel(\"T en celsius\")\n",
    "plt.legend()\n",
    "plt.grid(True)\n",
    "plt.show()"
   ]
  },
  {
   "cell_type": "markdown",
   "metadata": {},
   "source": [
    "# Régression linéaire"
   ]
  },
  {
   "cell_type": "markdown",
   "metadata": {},
   "source": [
    "L'aspect linéaire (affine en réalité) semble établi au delà de $t=100~\\text{s}$, c'est-à-dire en soustrayant les trois premiers points mesurés, on peut maintenant utiliser la méthode `polyfit` de `numpy` pour proposer un régression linéaire associée à cette collection de points.<br/>\n",
    "> **Question 3** : Finir le code qui permet de générer une régression linéaire à partir de 100s qui passe au plus près des points de mesure.\n",
    "> \n",
    "Vous lirez d'abord ici https://xofe14.scenari-community.org/Publications/Formations/0_Boite_a_outils_Python_web/co/polyfit.html des informations sur la fonction `polyfit`"
   ]
  },
  {
   "cell_type": "code",
   "execution_count": 70,
   "metadata": {},
   "outputs": [],
   "source": [
    "z=np.polyfit(......,.........,.............)\n"
   ]
  },
  {
   "cell_type": "markdown",
   "metadata": {},
   "source": [
    "> **Question 4** : Tracez la courbe précédente en y rajoutant la droite obtenue par régression linéaire."
   ]
  },
  {
   "cell_type": "code",
   "execution_count": 72,
   "metadata": {},
   "outputs": [
    {
     "ename": "SyntaxError",
     "evalue": "invalid syntax (2574987507.py, line 1)",
     "output_type": "error",
     "traceback": [
      "\u001b[1;36m  File \u001b[1;32m\"C:\\Users\\roque\\AppData\\Local\\Temp\\ipykernel_268\\2574987507.py\"\u001b[1;36m, line \u001b[1;32m1\u001b[0m\n\u001b[1;33m    y = ..............*t + .................\u001b[0m\n\u001b[1;37m           ^\u001b[0m\n\u001b[1;31mSyntaxError\u001b[0m\u001b[1;31m:\u001b[0m invalid syntax\n"
     ]
    }
   ],
   "source": [
    "y = ..............*t + .................\n",
    "\n",
    "# Tracé du nuage de points associé aux valeurs possibles de mg et de l\n",
    "plt.figure()\n",
    "plt.errorbar(...., ......, ....., ...., fmt='.',ecolor='r' ,label=\"Données expérimentales\")\n",
    "plt.plot(t,y,label=\"Régression linéaire\")\n",
    "plt.xlabel(\"t en s\")\n",
    "plt.ylabel(\"T en celsius\")\n",
    "plt.legend()\n",
    "plt.grid(True)\n",
    "plt.show()\n",
    "\n",
    "print(\"La valeur mesurée de la pente est de \",format(.........,\"#.5f\"),\"C/s\")"
   ]
  },
  {
   "cell_type": "markdown",
   "metadata": {},
   "source": [
    "> **Question 5** : Quelle est la valeur théorique de la pente  de la régression linéaire ? "
   ]
  },
  {
   "cell_type": "markdown",
   "metadata": {},
   "source": [
    "> **Question 6** : On donne $U=12 V$, $R=5\\Omega$ et on suppose que la capacité calorifique massique est du même ordre de grandeur que celle de l'eau et que la masse totale m est également du même ordre de grandeur que celle de l'eau:$c_p$~ $c_{eau}$ \n",
    "et $m$~$m_{eau}=100g$.\n",
    ">> Retrouvez l'ordre de grandeur de la valeur référencée de $c_{eau}=4,18.10^3J.kg.K^{-1}$"
   ]
  }
 ],
 "metadata": {
  "kernelspec": {
   "display_name": "Python 3 (ipykernel)",
   "language": "python",
   "name": "python3"
  },
  "language_info": {
   "codemirror_mode": {
    "name": "ipython",
    "version": 3
   },
   "file_extension": ".py",
   "mimetype": "text/x-python",
   "name": "python",
   "nbconvert_exporter": "python",
   "pygments_lexer": "ipython3",
   "version": "3.9.13"
  }
 },
 "nbformat": 4,
 "nbformat_minor": 2
}
