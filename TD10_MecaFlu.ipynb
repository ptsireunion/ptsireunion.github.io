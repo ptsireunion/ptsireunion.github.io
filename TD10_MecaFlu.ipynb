{
 "cells": [
  {
   "cell_type": "markdown",
   "metadata": {},
   "source": [
    "![WeTheGeeksV3.jpg](https://raw.githubusercontent.com/ptsireunion/CPGE-PT-Reunion/main/WeTheGeeksV3.jpg)\n",
    " \n",
    "<div class=\"alert alert-block alert-info\">\n",
    "    <b> PYTHON – Travaux Dirigés N°10\n",
    "</div>\n",
    "\n",
    "# Mécanique des fluides - Viscosité\n",
    ">Physique Chimie `CPGE PT` lien vers le blog <a> https://cpge-reunion-ptsi.blogspot.com/p/python_6.html </a>\n",
    "    >> Sujet inspiré par diverses lectures sur le net. Merci à leurs contributeurs.trices"
   ]
  },
  {
   "cell_type": "raw",
   "metadata": {},
   "source": [
    "Dans ce notebook, on va `mesurer la viscosité d'un fluide`. On s'intéressera en particulier à la chute d'une bille dans ce fluide."
   ]
  },
  {
   "cell_type": "markdown",
   "metadata": {},
   "source": [
    "# Etude la chute d'une bille dans le glycérol"
   ]
  },
  {
   "cell_type": "markdown",
   "metadata": {},
   "source": [
    "La viscosité rend compte de la capacité d’un fluide à résister à sa mise en mouvement. Nous allons étudier un protocole qu’on rencontrera en TP permettant de la mesurer : l’exploitation de la chute d’une bille dans du glycérol.\n",
    "![ChuteBilleGlycerol.jpg](https://raw.githubusercontent.com/ptsireunion/CPGE-PT-Reunion/main/ChuteBilleGlycerol.jpg)\n",
    "\n",
    "Données : $ρ$ et $ρ_b$ sont respectivement la masse volumique du fluide et de la bille. \n",
    "R=2mm est le rayon de la bille. $η$ est la viscosité dynamique du glycérol qui varie entre 0,5 $Pa.s$ ou moins s’il est hydraté et 1,5 $Pa.s$ s’il est pur à $20 °C$. Densité du glycérol : $d=1,26$ ; densité de l’acier de la bille : $d_b=7,6$. Faisons le bilan des forces: \n",
    ">Poussée d’Archimède $\\vec{Π}$\n",
    ">\n",
    ">Poids  $\\vec{P}$\n",
    ">\n",
    ">Force de frottement  $\\vec{f}$=-$λ.$$\\vec{v}$ avec $λ=6πηR$ (formule de Stokes)\n"
   ]
  },
  {
   "cell_type": "markdown",
   "metadata": {},
   "source": [
    "> **Question 1** :\n",
    "> \tExprimer $\\vec{Π}$ et $\\vec{P}$ en fonction des données. "
   ]
  },
  {
   "cell_type": "markdown",
   "metadata": {},
   "source": [
    "> **Question 2** :\n",
    "> Montrer que $m.\\frac{dv}{dt}+6πηR.v=4/3 πgR^3 (ρ_b-ρ)$   en notant la vitesse $\\vec{v}=v.\\vec{e_z}=\\frac{dz}{dt}\\vec{e_z}$"
   ]
  },
  {
   "cell_type": "markdown",
   "metadata": {},
   "source": [
    "> **Question 3** :\n",
    "> \tRésoudre l’équation, représenter $v(t)$. Donner l’expression de la constante de temps $τ$ et montrer que celle de la vitesse limite est $v_lim=2/9  \\frac{R^2 ρ_b}{η}.(ρ_b-ρ)$"
   ]
  },
  {
   "cell_type": "markdown",
   "metadata": {},
   "source": [
    "A l’aide d’une caméra, on obtient les positions atteintes par la bille à intervalles réguliers, tous les pas temporels $dt_{exp}=$1/50 seconde :\n",
    "\n",
    "![TD10_Tableau_Z_t.jpg](https://raw.githubusercontent.com/ptsireunion/CPGE-PT-Reunion/main/TD10_Tableau_Z_t.jpg)\n"
   ]
  },
  {
   "cell_type": "markdown",
   "metadata": {},
   "source": [
    "> **Question 4** :\n",
    "> Exprimer la viscosité du fluide en fonction des données"
   ]
  },
  {
   "cell_type": "markdown",
   "metadata": {},
   "source": [
    "> **Question 5** :\n",
    "> Représenter la profondeur de chute z en fonction du temps"
   ]
  },
  {
   "cell_type": "code",
   "execution_count": 1,
   "metadata": {},
   "outputs": [
    {
     "ename": "SyntaxError",
     "evalue": "invalid syntax (1246061713.py, line 7)",
     "output_type": "error",
     "traceback": [
      "\u001b[1;36m  Cell \u001b[1;32mIn[1], line 7\u001b[1;36m\u001b[0m\n\u001b[1;33m    t_exp=np.linspace...................................\u001b[0m\n\u001b[1;37m                     ^\u001b[0m\n\u001b[1;31mSyntaxError\u001b[0m\u001b[1;31m:\u001b[0m invalid syntax\n"
     ]
    }
   ],
   "source": [
    "import numpy as np\n",
    "import matplotlib.pyplot as plt\n",
    "\n",
    "z_exp = np.array([0.0,2.9,9.6,18.6,29.3,41.3,55.3,69.5,85.2,102.2,119.5,136.6,154.4,172.7,191.1,209.4,228.0,247.2\n",
    "])/1000\n",
    "dt_exp = 1/50\n",
    "t_exp=np.linspace...................................\n",
    "    \n",
    "#-----tracé z(t)------#\n",
    "plt . figure ()\n",
    "plt . plot (............. , ............. ,'o',label ='points expérimentaux ')\n",
    "plt . xlabel (\"t (s)\")\n",
    "plt . ylabel (\"z (m)\")\n",
    "plt . legend ()\n",
    "plt . grid ()\n",
    "plt . show ()"
   ]
  },
  {
   "cell_type": "markdown",
   "metadata": {},
   "source": [
    "> **Question 6** :\tReprésenter la vitesse de chute expérimentale $v_{exp}$ en fonction du temps. Vous utiliserez la méthode suivante : au temps $t$, on approximera $v(t)$ à l’aide des valeurs utiles au temps $t+dt_{exp}$ et $t-dt_{exp}$. Attention aux valeurs aux limites. Quelle sera la valeur expérimentale $v_{lim}$  ? À partir de quel temps $t_{fin}$ peut-on considérer que cette limite est atteinte ?"
   ]
  },
  {
   "cell_type": "code",
   "execution_count": 2,
   "metadata": {},
   "outputs": [
    {
     "ename": "SyntaxError",
     "evalue": "invalid syntax (3340418982.py, line 3)",
     "output_type": "error",
     "traceback": [
      "\u001b[1;36m  Cell \u001b[1;32mIn[2], line 3\u001b[1;36m\u001b[0m\n\u001b[1;33m    for i in range (----------------------------------------):\u001b[0m\n\u001b[1;37m                                                            ^\u001b[0m\n\u001b[1;31mSyntaxError\u001b[0m\u001b[1;31m:\u001b[0m invalid syntax\n"
     ]
    }
   ],
   "source": [
    "v_exp = [0]\n",
    "t2_exp=[0]\n",
    "for i in range (----------------------------------------):\n",
    "    ------------------------------------------\n",
    "    -----------------------------------------\n",
    "    \n",
    "# --tracé v(t) --#\n",
    "plt . figure ()\n",
    "plt . plot (-------------------- ,---------------- ,'o',label ='points expérimentaux ')\n",
    "plt . xlabel (\"t (s)\")\n",
    "plt . ylabel (\"v_exp (m/s)\")\n",
    "plt . legend ()\n",
    "plt . grid ()\n",
    "plt . show ()"
   ]
  },
  {
   "cell_type": "markdown",
   "metadata": {},
   "source": [
    "> **Question 7** :\tCalculer la viscosité du glycérol. Comparer à la valeur attendue. À l’aide d’une méthode graphique, trouver la valeur approximative de τ. Comparer à la valeur attendue."
   ]
  },
  {
   "cell_type": "markdown",
   "metadata": {},
   "source": [
    "> **Question 8** :\tA l’aide de la méthode d’Euler, résoudre numériquement l’équation différentielle et représenter la vitesse calculée v en superposant la courbe à celle de v_exp. Vous prendrez 500 pas de calcul."
   ]
  },
  {
   "cell_type": "code",
   "execution_count": 3,
   "metadata": {},
   "outputs": [
    {
     "ename": "SyntaxError",
     "evalue": "invalid syntax (1547047068.py, line 12)",
     "output_type": "error",
     "traceback": [
      "\u001b[1;36m  Cell \u001b[1;32mIn[3], line 12\u001b[1;36m\u001b[0m\n\u001b[1;33m    for i in range ( ---------------------------- ):\u001b[0m\n\u001b[1;37m                                                  ^\u001b[0m\n\u001b[1;31mSyntaxError\u001b[0m\u001b[1;31m:\u001b[0m invalid syntax\n"
     ]
    }
   ],
   "source": [
    "# ------------ Résolution numérique Euler -------------#\n",
    "t_fin = 0.35 # durée simulation ( secondes )\n",
    "dt = t_fin /500 # pas de temps , assez court\n",
    "nb_iterations = int(t_fin/dt) # calcul du nombre total d'ité rations né cessaires\n",
    "vlim = 0.95 # vitesse limite mesur ée sur le graphe expé rimental (m/s) A COMPLETER\n",
    "tau = 0.085 # constante de temps mesur ée sur le graphe expé rimental (s) A COMPLETER\n",
    "# Initialisation des listes :\n",
    "liste_t3 = [0]\n",
    "liste_v3 = [0]\n",
    "t = 0\n",
    "v = 0\n",
    "for i in range ( ---------------------------- ):\n",
    "    ---------------------------------------\n",
    "    --------------------------------------\n",
    "# On ajoute ces nouvelles valeurs à chaque liste :\n",
    "    ---------------------------------------\n",
    "    --------------------------------------\n",
    "\n",
    "plt . figure ()\n",
    "plt . plot ( -------------------- ,---------------- ,'-',label ='points calculés') \n",
    "plt . plot (-------------------- ,---------------- ,'o',label ='points expérimentaux ')\n",
    "plt . xlabel (\"t (s)\")\n",
    "plt . ylabel (\"v (m/s)\")\n",
    "plt . legend ()\n",
    "plt . grid ()\n",
    "plt . show ()"
   ]
  },
  {
   "cell_type": "markdown",
   "metadata": {},
   "source": [
    "> **Question 9** :\n",
    "> On souhaite étudier un autre modèle de force de frottement avec une expression quadratique $\\vec{f_2}=-a.v².\\vec{z}$ Réécrire le PFD en fonction de $v,a$ et $v_{lim}$. Faire la résolution numérique et essayer plusieurs valeurs du coefficient a pour se rapprocher des courbes précédentes. Quel modèle vous paraît le plus approprié ?"
   ]
  },
  {
   "cell_type": "code",
   "execution_count": 4,
   "metadata": {},
   "outputs": [
    {
     "ename": "SyntaxError",
     "evalue": "invalid syntax (3384477816.py, line 9)",
     "output_type": "error",
     "traceback": [
      "\u001b[1;36m  Cell \u001b[1;32mIn[4], line 9\u001b[1;36m\u001b[0m\n\u001b[1;33m    for i in range ( ---------------------------- ):\u001b[0m\n\u001b[1;37m                                                  ^\u001b[0m\n\u001b[1;31mSyntaxError\u001b[0m\u001b[1;31m:\u001b[0m invalid syntax\n"
     ]
    }
   ],
   "source": [
    "# ------------ Modèle de FORCE EN V^2 -------------#\n",
    "a = 9 # param ètre en facteur de -v^2 # A AJUSTER AU MIEUX\n",
    "# Initialisation des listes :\n",
    "liste_t4 = [0]\n",
    "liste_v4 = [0]\n",
    "\n",
    "t = 0\n",
    "v = 0\n",
    "for i in range ( ---------------------------- ):\n",
    "# on dispose des variables de l'ité ration précé dente : t et v\n",
    "# et on calcule leurs nouvelles valeurs :\n",
    "\n",
    "    ---------------------------------------\n",
    "    --------------------------------------\n",
    "# On ajoute ces nouvelles valeurs à chaque liste :\n",
    "    ---------------------------------------\n",
    "    --------------------------------------\n",
    "\n",
    "plt . figure ()\n",
    "plt . plot ( -------------------- ,---------------- ,'-.',label ='modèle 2 : force en v^2 ')\n",
    "plt . plot ( -------------------- ,---------------- ,'-',label ='modèle 1 : force en v ') \n",
    "plt . plot (-------------------- ,---------------- ,'o',label ='points expérimentaux ')\n",
    "plt . xlabel (\"t (s)\")\n",
    "plt . ylabel (\"v (m/s)\")\n",
    "plt . legend ()\n",
    "plt . grid ()\n",
    "plt . show ()"
   ]
  }
 ],
 "metadata": {
  "kernelspec": {
   "display_name": "Python [conda env:base] *",
   "language": "python",
   "name": "conda-base-py"
  },
  "language_info": {
   "codemirror_mode": {
    "name": "ipython",
    "version": 3
   },
   "file_extension": ".py",
   "mimetype": "text/x-python",
   "name": "python",
   "nbconvert_exporter": "python",
   "pygments_lexer": "ipython3",
   "version": "3.13.5"
  }
 },
 "nbformat": 4,
 "nbformat_minor": 4
}
