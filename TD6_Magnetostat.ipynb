{
 "cells": [
  {
   "cell_type": "markdown",
   "metadata": {},
   "source": [
    "![WeTheGeeksV3.jpg](https://raw.githubusercontent.com/ptsireunion/CPGE-PT-Reunion/main/WeTheGeeksV3.jpg)\n",
    " \n",
    "<div class=\"alert alert-block alert-info\">\n",
    "    <b> PYTHON – Travaux Dirigés N°6\n",
    "</div>\n",
    "\n",
    "# - Théorème d'Ampère -\n",
    ">Physique Chimie `CPGE PT` lien vers le blog <a> https://cpge-reunion-ptsi.blogspot.com/p/info-pyhton.html </a>\n",
    "    >> Sujet inspiré par diverses lectures sur le net. Merci à leurs contributeurs.trices"
   ]
  },
  {
   "cell_type": "markdown",
   "metadata": {},
   "source": [
    "Dans ce notebook, on s'intéresse au `Théorème d'Ampère qu'on cherche à vérifier avec les mesures de champ magnétostatique sur l'axe d'une bobine.`"
   ]
  },
  {
   "cell_type": "markdown",
   "metadata": {},
   "source": [
    "## Préliminaires\n",
    "\n",
    "**Question 1 :**\n",
    "> Rappeler l'énoncé d'Ampère\n",
    "\n",
    "**Question 2 :**\n",
    "![Bobine.JPG](https://raw.githubusercontent.com/ptsireunion/CPGE-PT-Reunion/main/Bobine.JPG)\n",
    "> Soit une bobine de centre $O$ et de rayon $R$ comprenant $N$ spires, considérée comme quasiment plate $(l≪R)$ et parcourue par un courant d'intensité $I$. Expliquer pourquoi le champ magnétique créé en tout point $M(x)$ de l’axe $x$ est suivant cet axe\n",
    "\n",
    "**Question 3 :**\n",
    "> On admet son expression  $\\vec{B}(M)=\\frac{μ_0.N.I}{2R}.sin^3(α).\\vec{u_x}$. Exprimer $\\vec{B(M)}$ en fonction de $μ_0,R,x,I,N$ puis en fonction de $R,x$ et  $\\vec{B}(O)$\n",
    "\n",
    "**Question 4 :**\n",
    "> Représentez l’allure de la courbe. Quelle est sa parité ? Démontrer que le Théorème d’Ampère peut être vérifié à l’aide du calcul de l’aire sous la courbe."
   ]
  },
  {
   "cell_type": "markdown",
   "metadata": {},
   "source": [
    "## Représentation des valeurs expérimentales et théorique\n",
    "\n",
    "Voici le résultats des mesures faites à l'aide d'un Teslamètre\n",
    "![TableauMesures.JPG](https://raw.githubusercontent.com/ptsireunion/CPGE-PT-Reunion/main/TableauMesures.JPG)\n",
    "La géométrie de la bobine ne permettant pas de dégager un contour simple pour appliquer le théorème d’Ampère, on procédera de la façon suivante : on calculera la circulation du champ en choisissant un contour fermé, défini par l’axe de la bobine que l’on refermera extérieurement par la pensée, suffisamment loin pour que le champ puisse y être considéré comme négligeable. On aura alors une bonne évaluation de la circulation du champ par le calcul de la circulation entre -L et +L sur l’axe avec L assez grand. En reprenant les mesures précédentes, on effectuera l’intégration de la circulation du champ en procédant au découpage indiqué sur le schéma.\n",
    "![ContourChampB.JPG](https://raw.githubusercontent.com/ptsireunion/CPGE-PT-Reunion/main/ContourChampB.JPG)\n",
    "\n"
   ]
  },
  {
   "cell_type": "markdown",
   "metadata": {},
   "source": [
    "**Question 5**\n",
    "> Pourquoi les mesures partielles du tableau suffisent-elles pour vérifier approximativement le Théorème d’Ampère ? \n",
    "\n",
    "**Question 6**\n",
    ">\n",
    "> Représenter les mesures en fonction de $x$. Vous transformerez la liste des abscisses et des ordonnées en matrices afin de les manipuler plus aisément."
   ]
  },
  {
   "cell_type": "code",
   "execution_count": 1,
   "metadata": {
    "jupyter": {
     "source_hidden": true
    },
    "tags": []
   },
   "outputs": [
    {
     "ename": "SyntaxError",
     "evalue": "invalid syntax (1734036354.py, line 11)",
     "output_type": "error",
     "traceback": [
      "\u001b[1;36m  File \u001b[1;32m\"C:\\Users\\roque\\AppData\\Local\\Temp\\ipykernel_12188\\1734036354.py\"\u001b[1;36m, line \u001b[1;32m11\u001b[0m\n\u001b[1;33m    x=..................([0,0.5,1,1.5,2,3,4,5,6,7,8,9,10,11,12,13])\u001b[0m\n\u001b[1;37m         ^\u001b[0m\n\u001b[1;31mSyntaxError\u001b[0m\u001b[1;31m:\u001b[0m invalid syntax\n"
     ]
    }
   ],
   "source": [
    "# Cellule à exécuter\n",
    "\n",
    "import numpy as np\n",
    "import matplotlib.pyplot as plt\n",
    "\n",
    "N=95\n",
    "I=3\n",
    "R=0.065\n",
    "mu0=4*np.pi*1e-7\n",
    "\n",
    "x=..................([0,0.5,1,1.5,2,3,4,5,6,7,8,9,10,11,12,13])\n",
    "Bmes=..................([2.95\t,2.88,2.76,2.6,2.5,2.2,1.85,1.45,1.2,1,0.8,0.6,0.5,0.36,0.29,0.24])\n",
    "plt.plot(..... , ......,\"x\",label='Bmes(mT)')\n"
   ]
  },
  {
   "cell_type": "markdown",
   "metadata": {},
   "source": [
    "**Question 7**\n",
    ">\n",
    "> Superposez aux mesures la courbe théorique et annotez les courbes"
   ]
  },
  {
   "cell_type": "code",
   "execution_count": 2,
   "metadata": {},
   "outputs": [
    {
     "ename": "SyntaxError",
     "evalue": "invalid syntax (4268471015.py, line 1)",
     "output_type": "error",
     "traceback": [
      "\u001b[1;36m  File \u001b[1;32m\"C:\\Users\\roque\\AppData\\Local\\Temp\\ipykernel_12188\\4268471015.py\"\u001b[1;36m, line \u001b[1;32m1\u001b[0m\n\u001b[1;33m    plt.plot(..... , ......s,\"x\",label='Bmes(mT)')\u001b[0m\n\u001b[1;37m                 ^\u001b[0m\n\u001b[1;31mSyntaxError\u001b[0m\u001b[1;31m:\u001b[0m invalid syntax\n"
     ]
    }
   ],
   "source": [
    "plt.plot(..... , ......s,\"x\",label='Bmes(mT)')\n",
    "\n",
    "Bthéo=...........................\n",
    "plt.plot(..... , ......,'-',label='Bthéo(mT)')\n",
    "plt.xlabel(\"x(cm)\")\n",
    "plt.legend()"
   ]
  },
  {
   "cell_type": "markdown",
   "metadata": {},
   "source": [
    "# Vérification du Théorème D'ampère\n",
    "> ## Intégration numerique par la méthode des rectangles\n",
    "\n",
    "**Question 8**\n",
    ">\n",
    "> Utiliser la méthode des rectangles pour calculer l'aire sous la courbe et vérifier le Théorème d'Ampère. Attention aux unités. Revoir les résultats de la question 5. Vous superposerez sur un graphe les valeurs expérimentales, théoriques et les 'rectangles' de la méthode d'intégration et donnerez la valeur du résultat. Pour comparaison, vous calculerez le second membre du Théorème. Est-il vérifié?"
   ]
  },
  {
   "cell_type": "code",
   "execution_count": 3,
   "metadata": {},
   "outputs": [
    {
     "ename": "SyntaxError",
     "evalue": "invalid syntax (3113772276.py, line 2)",
     "output_type": "error",
     "traceback": [
      "\u001b[1;36m  File \u001b[1;32m\"C:\\Users\\roque\\AppData\\Local\\Temp\\ipykernel_12188\\3113772276.py\"\u001b[1;36m, line \u001b[1;32m2\u001b[0m\n\u001b[1;33m    integrale = ..........\u001b[0m\n\u001b[1;37m                   ^\u001b[0m\n\u001b[1;31mSyntaxError\u001b[0m\u001b[1;31m:\u001b[0m invalid syntax\n"
     ]
    }
   ],
   "source": [
    "# integration numerique par la methode des rectangles \n",
    "integrale = ..........\n",
    "for i in range(..........):\n",
    "    integrale = ..............................\n",
    "    # dessin du rectangle\n",
    "    x_rect = [x[i], x[i], x[i+1], x[i+1], x[i]] # abscisses des sommets\n",
    "    Bmes_rect = [0   , Bmes[i], Bmes[i]  , 0     , 0   ] # ordonnees des sommets\n",
    "    plt.plot(x_rect, Bmes_rect,\"r\")\n",
    "print(\"intégrale =\", ...........)\n",
    "print(\"mu0*N*I =\",.........................)\n",
    "plt.plot(x,Bmes,\"x\",label='Bmes(mT)')\n",
    "plt.plot(x,Bthéo,'-',label='Bthéo(mT)')\n",
    "plt.xlabel(\"x(cm)\")\n",
    "plt.legend()\n",
    "plt.show()\n"
   ]
  },
  {
   "cell_type": "markdown",
   "metadata": {},
   "source": [
    "> ## Intégration numerique par la méthode des trapèzes\n",
    "\n",
    "**Question 9**\n",
    ">\n",
    "> Utiliser la méthode des trapèzes pour calculer l'aire sous la courbe et vérifier le Théorème d'Ampère. Attention aux unités. Revoir les résultats de la question 5. Vous superposerez sur un graphe les valeurs expérimentales, théoriques et les 'rectangles' de la méthode d'intégration et donnerez la valeur du résultat. Pour comparaison, vous calculerez le second membre du Théorème. Est-il vérifié?"
   ]
  },
  {
   "cell_type": "code",
   "execution_count": 4,
   "metadata": {},
   "outputs": [
    {
     "ename": "SyntaxError",
     "evalue": "invalid syntax (3198140608.py, line 2)",
     "output_type": "error",
     "traceback": [
      "\u001b[1;36m  File \u001b[1;32m\"C:\\Users\\roque\\AppData\\Local\\Temp\\ipykernel_12188\\3198140608.py\"\u001b[1;36m, line \u001b[1;32m2\u001b[0m\n\u001b[1;33m    integrale = ..........\u001b[0m\n\u001b[1;37m                   ^\u001b[0m\n\u001b[1;31mSyntaxError\u001b[0m\u001b[1;31m:\u001b[0m invalid syntax\n"
     ]
    }
   ],
   "source": [
    "# integration numerique par la methode des trapèzes\n",
    "integrale = ..........\n",
    "for i in range(..........):\n",
    "    integrale = ..............................\n",
    "    # dessin du rectangle\n",
    "    x_rect = [x[i], x[i], x[i+1], x[i+1], x[i]] # abscisses des sommets\n",
    "    Bmes_rect = [0   , Bmes[i], Bmes[i+1]  , 0     , 0   ] # ordonnees des sommets\n",
    "    plt.plot(x_rect, Bmes_rect,\"r\")\n",
    "print(\"intégrale =\", ...........)\n",
    "print(\"mu0*N*I =\",.........................)\n",
    "plt.plot(x,Bmes,\"x\",label='Bmes(mT)')\n",
    "plt.plot(x,Bthéo,'-',label='Bthéo(mT)')\n",
    "plt.xlabel(\"x(cm)\")\n",
    "plt.legend()\n",
    "plt.show()"
   ]
  },
  {
   "cell_type": "code",
   "execution_count": null,
   "metadata": {},
   "outputs": [],
   "source": []
  }
 ],
 "metadata": {
  "kernelspec": {
   "display_name": "Python 3 (ipykernel)",
   "language": "python",
   "name": "python3"
  },
  "language_info": {
   "codemirror_mode": {
    "name": "ipython",
    "version": 3
   },
   "file_extension": ".py",
   "mimetype": "text/x-python",
   "name": "python",
   "nbconvert_exporter": "python",
   "pygments_lexer": "ipython3",
   "version": "3.9.13"
  }
 },
 "nbformat": 4,
 "nbformat_minor": 2
}
